{
 "cells": [
  {
   "cell_type": "markdown",
   "metadata": {},
   "source": [
    "<h1>Índice Del Reto Guiado de Visualización</h1>\n",
    "<div class=\"toc\">\n",
    "    <ul class=\"toc-item\">\n",
    "        <li>\n",
    "            <span><a href=\"#1-resumen-del-reto-guiado-de-visualización\">1. Resumen del reto guiado de Visualización.</a></span>\n",
    "            <ul class=\"toc-item\">\n",
    "                <li><span><a href=\"#11-conocimientos-previos\">1.1. Conocimientos previos.</a></span></li>\n",
    "                <li><span><a href=\"#12-propósito-del-reto-e-información-de-los-datos\">1.2. Propósito del reto e información de los datos.</a></span></li>\n",
    "                <li><span><a href=\"#13-librerías-necesarias\">1.3. Librerías necesarias.</a></span></li>\n",
    "            </ul>\n",
    "        </li>\n",
    "        <li>\n",
    "            <span><a href=\"#2-ejercicios\">2. Ejercicios</a></span>\n",
    "        </li>\n",
    "    </ul>\n",
    "</div>\n",
    "    \n",
    "\n",
    "## 1. Resumen del reto guiado de Visualización.\n",
    "### 1.1. Conocimientos previos.\n",
    "- Python (Completo)\n",
    "- Pandas\n",
    "- Visualización\n",
    "\n",
    "### 1.2. Propósito del reto e información de los datos.\n",
    "El propósito de este reto guiado es poner en práctica los creación de visualizacioes para poder sacar información de forma sencilla de los datos que disponemos.\n",
    "En este caso vamos a utilizar el set de datos que guardamos en el reto guiado anterior. Las columnas para el set de datos son:\n",
    "\n",
    "**world-data**\n",
    "- **Country**: Nombre del país.\n",
    "\n",
    "- **Density (P/Km2)**: Densidad de población medida en personas por kilómetro cuadrado.\n",
    "\n",
    "- **Abbreviation**: Abreviatura o código que representa al país.\n",
    "\n",
    "\n",
    "- **Agricultural Land(%)**: Porcentaje del área total de tierra utilizada con fines agrícolas.\n",
    "- **Land Area(Km2)**: Área total de tierra del país en kilómetros cuadrados.\n",
    "\n",
    "- **Armed Forces size**: Tamaño de las fuerzas armadas en el país.\n",
    "\n",
    "- **Birth Rate**: Número de nacimientos por cada 1,000 habitantes por año.\n",
    "\n",
    "- **Calling Code**: Código internacional de llamada para el país.\n",
    "\n",
    "- **Capital/Major City**: Nombre de la capital o ciudad principal.\n",
    "\n",
    "- **Co2-Emissions**: Emisiones de dióxido de carbono en toneladas.\n",
    "\n",
    "- **CPI**: Índice de Precios al Consumidor (IPC), una medida de la inflación y el poder adquisitivo.\n",
    "\n",
    "- **CPI Change (%)**: Cambio porcentual en el Índice de Precios al Consumidor en comparación con el año anterior.\n",
    "\n",
    "- **Currency-Code**: Código de moneda utilizado en el país.\n",
    "\n",
    "- **Fertility Rate**: Número promedio de hijos nacidos de una mujer durante su vida.\n",
    "\n",
    "- **Forested Area (%)**: Porcentaje del área total cubierta por bosques.\n",
    "\n",
    "- **Gasoline Price**: Precio de la gasolina por litro en moneda local.\n",
    "\n",
    "- **GDP**: Producto Interno Bruto, el valor total de bienes y servicios producidos en el país.\n",
    "\n",
    "- **Gross primary education enrollment (%)**: Tasa bruta de matriculación en educación primaria.\n",
    "\n",
    "- **Gross tertiary education enrollment (%)**: Tasa bruta de matriculación en educación terciaria.\n",
    "\n",
    "- **Infant mortality**: Número de muertes por cada 1,000 nacidos vivos antes de cumplir un año de edad.\n",
    "\n",
    "- **Largest city**: Nombre de la ciudad más grande del país.\n",
    "\n",
    "- **Life expectancy**: Número promedio de años que se espera que viva un recién nacido.\n",
    "\n",
    "- **Maternal mortality ratio**: Número de muertes maternas por cada 100,000 nacidos vivos.\n",
    "\n",
    "- **Minimum wage**: Nivel de salario mínimo en moneda local.\n",
    "\n",
    "- **Official language**: Idioma(s) oficial(es) hablado(s) en el país.\n",
    "\n",
    "- **Out of pocket health expenditure**: Porcentaje del gasto total en salud pagado directamente por individuos.\n",
    "\n",
    "- **Physicians per thousand**: Número de médicos por cada mil personas.\n",
    "\n",
    "- **Population**: Población total del país.\n",
    "\n",
    "- **Population: Labor force participation (%)**: Porcentaje de la población que forma parte de la fuerza laboral.\n",
    "\n",
    "- **Tax revenue (%)**: Ingresos fiscales como porcentaje del PIB.\n",
    "\n",
    "- **Total tax rate**: Carga fiscal total como porcentaje de las ganancias comerciales.\n",
    "\n",
    "- **Unemployment rate**: Porcentaje de la fuerza laboral que está desempleada.\n",
    "\n",
    "- **Urban_population**: Porcentaje de la población que vive en áreas urbanas.\n",
    "\n",
    "- **latitude**:Coordenadas de latitud de la ubicación del país.\n",
    "\n",
    "- **longitude**:Coordenadas de longitud de la ubicación del país.\n",
    "\n",
    "- **Continent**: Continente en el que se encuentra el país.\n",
    "### 1.3. Librerías necesarias.\n",
    "Primero importamos las librerías necesarias para poder llevar a cabo los ejercicios.\n",
    "# Tratamiento de datos\n",
    "import pandas as pd\n",
    "import numpy as np\n",
    "#Librerías de visualización\n",
    "import seaborn as sns\n",
    "import plotly.express as px\n",
    "import matplotlib.pyplot as plt\n",
    "## 2. Ejercicios\n",
    "2.2.1. Carga el archivo 'world-data' como DataFrame (world)\n",
    "\n",
    "2.2.2. ¿Cómo se distribuye la tasa de natalidad en el conjunto de datos? ¿Hay algún patrón evidente? (Histograma)\n",
    "\n",
    "2.2.3. ¿Existe una relación aparente entre la tasa de mortalidad infantil y la esperanza de vida? Proporciona una breve descripción de los patrones que observes (Regplot).\n",
    "\n",
    "2.2.4. ¿Cuál es el continente con la mayor cantidad de países en el conjunto de datos? Proporciona el porcentaje de países en ese continente(Pie plot. Recuerda que primero debes hacer un group by con la columna a estuduar).\n",
    "\n",
    "2.2.5. ¿Cuál es la mediana de la esperanza de vida en Europa? Proporciona un rango intercuartil aproximado y verifica si existen valores atípicos.(Boxplot)\n",
    "\n",
    "2.2.6. ¿Cual es el continente con mayor número de países? (Countplot)\n",
    "\n",
    "2.2.7. Estudia la relación entre el porcentaje de desempleados y la tasa bruta de matriculación en educación primaria y terciaria (Scatterplot)\n",
    "\n",
    "2.2.8. Estudia la distribucíon del gasto en salud del ciudadano en América. Indica la mediana y la densidad.(Violinplot)\n",
    "\n"
   ]
  },
  {
   "cell_type": "code",
   "execution_count": 1,
   "metadata": {},
   "outputs": [
    {
     "name": "stdout",
     "output_type": "stream",
     "text": [
      "5.10.4\n"
     ]
    }
   ],
   "source": [
    "import nbformat\n",
    "print(nbformat.__version__)"
   ]
  },
  {
   "cell_type": "code",
   "execution_count": 2,
   "metadata": {},
   "outputs": [
    {
     "name": "stderr",
     "output_type": "stream",
     "text": [
      "C:\\Users\\MJDG1\\AppData\\Local\\Temp\\ipykernel_37756\\1809422733.py:1: DeprecationWarning: \n",
      "Pyarrow will become a required dependency of pandas in the next major release of pandas (pandas 3.0),\n",
      "(to allow more performant data types, such as the Arrow string type, and better interoperability with other libraries)\n",
      "but was not found to be installed on your system.\n",
      "If this would cause problems for you,\n",
      "please provide us feedback at https://github.com/pandas-dev/pandas/issues/54466\n",
      "        \n",
      "  import pandas as pd\n"
     ]
    },
    {
     "data": {
      "text/plain": [
       "Index(['Country', 'Density\\n(P/Km2)', 'Abbreviation', 'Agricultural Land( %)',\n",
       "       'Land Area(Km2)', 'Armed Forces size', 'Birth Rate', 'Calling Code',\n",
       "       'Capital/Major City', 'Co2-Emissions', 'CPI', 'CPI Change (%)',\n",
       "       'Currency-Code', 'Fertility Rate', 'Forested Area (%)',\n",
       "       'Gasoline Price', 'GDP', 'Gross primary education enrollment (%)',\n",
       "       'Gross tertiary education enrollment (%)', 'Infant mortality',\n",
       "       'Largest city', 'Life expectancy', 'Maternal mortality ratio',\n",
       "       'Minimum wage', 'Official language', 'Out of pocket health expenditure',\n",
       "       'Physicians per thousand', 'Population',\n",
       "       'Population: Labor force participation (%)', 'Tax revenue (%)',\n",
       "       'Total tax rate', 'Unemployment rate', 'Urban_population', 'latitude',\n",
       "       'longitude', 'Continent'],\n",
       "      dtype='object')"
      ]
     },
     "execution_count": 2,
     "metadata": {},
     "output_type": "execute_result"
    }
   ],
   "source": [
    "\n",
    "import pandas as pd\n",
    "import numpy as np\n",
    "#Librerías de visualización\n",
    "import seaborn as sns\n",
    "import plotly.express as px\n",
    "import matplotlib.pyplot as plt\n",
    "\n",
    "#2.2.1. Carga el archivo 'world-data' como DataFrame (world)\n",
    "\n",
    "world =pd.read_csv('world-data.csv', index_col=0)\n",
    "world.columns\n"
   ]
  },
  {
   "cell_type": "code",
   "execution_count": 3,
   "metadata": {},
   "outputs": [
    {
     "data": {
      "image/png": "[encoded data removed]",
      "text/plain": [
       "<Figure size 640x480 with 1 Axes>"
      ]
     },
     "metadata": {},
     "output_type": "display_data"
    }
   ],
   "source": [
    "# 2.2.2. ¿Cómo se distribuye la tasa de natalidad en el conjunto de datos? ¿Hay algún patrón evidente? (Histograma)\n",
    "plt.hist(world['Birth Rate'])\n",
    "plt.show()"
   ]
  },
  {
   "cell_type": "code",
   "execution_count": 4,
   "metadata": {},
   "outputs": [
    {
     "data": {
      "image/png": "[encoded data removed]",
      "text/plain": [
       "<Figure size 640x480 with 1 Axes>"
      ]
     },
     "metadata": {},
     "output_type": "display_data"
    },
    {
     "data": {
      "text/plain": [
       "' vemos que  la taza de natailidad que más se repite en el total de países es al rededor de un 10%, '"
      ]
     },
     "execution_count": 4,
     "metadata": {},
     "output_type": "execute_result"
    }
   ],
   "source": [
    "\"\"\" copiado de las soluciones\"\"\"\n",
    "#creo la varoable ax para guardar los graficos\n",
    "ax = sns.histplot( data = world, \n",
    "                   x = \"Birth Rate\",\n",
    "                   bins =10)\n",
    "                # Generamos el histograma en una variable 'ax' para poder posteriormente modificar el gráfico\n",
    "ax.set_xlabel(\"Tasa Natalidad\") # Cambiamos el nombre del eje x\n",
    "\n",
    "ax.set_ylabel(\"Conteo por países\") # Cambiamos el nombre del eje y\n",
    "\n",
    "ax.set_title(\"Distribución de la natalidad\", fontsize = 20) # Cambiamos el título del gráfic\n",
    " \n",
    "plt.show()\n",
    "\"\"\" vemos que  la taza de natailidad que más se repite en el total de países es al rededor de un 10%, \"\"\""
   ]
  },
  {
   "cell_type": "markdown",
   "metadata": {},
   "source": [
    "2.2.3. ¿Existe una relación aparente entre la tasa de mortalidad infantil y la esperanza de vida? Proporciona una breve descripción de los patrones que observes (Regplot)."
   ]
  },
  {
   "cell_type": "code",
   "execution_count": 5,
   "metadata": {},
   "outputs": [
    {
     "data": {
      "image/png": "[encoded data removed]",
      "text/plain": [
       "<Figure size 640x480 with 1 Axes>"
      ]
     },
     "metadata": {},
     "output_type": "display_data"
    }
   ],
   "source": [
    "#quiero representar dos datos para ver su relación ( diagrama de dispersion o scaterplot)\n",
    "ax = sns.scatterplot(data = world,\n",
    "                     x= 'Life expectancy',\n",
    "                     y = 'Infant mortality')\n",
    "# en este grafico vemos que cuanto mayor mortalidad infantil menor esperanza de vida"
   ]
  },
  {
   "cell_type": "code",
   "execution_count": 6,
   "metadata": {},
   "outputs": [
    {
     "data": {
      "image/png": "[encoded data removed]",
      "text/plain": [
       "<Figure size 640x480 with 1 Axes>"
      ]
     },
     "metadata": {},
     "output_type": "display_data"
    }
   ],
   "source": [
    "#si en vez de un scaterplot hago un regplot me va a aprecer la linea recta de regresion para ver la tendencia\n",
    "ax = sns.regplot(data = world,\n",
    "                     x= 'Life expectancy',\n",
    "                     y = 'Infant mortality')\n",
    "#Proporciona una breve descripción de los patrones que observes (Regplot).\n",
    "# Vemos que el patron es que a mayor  tasa de mortañidad infantil menor esperanza de vida"
   ]
  },
  {
   "cell_type": "markdown",
   "metadata": {},
   "source": [
    "2.2.4. ¿Cuál es el continente con la mayor cantidad de países en el conjunto de datos? Proporciona el porcentaje de países en ese continente(Pie plot. Recuerda que primero debes hacer un group by con la columna a estudiar)."
   ]
  },
  {
   "cell_type": "code",
   "execution_count": 7,
   "metadata": {},
   "outputs": [
    {
     "data": {
      "text/html": [
       "<div>\n",
       "<style scoped>\n",
       "    .dataframe tbody tr th:only-of-type {\n",
       "        vertical-align: middle;\n",
       "    }\n",
       "\n",
       "    .dataframe tbody tr th {\n",
       "        vertical-align: top;\n",
       "    }\n",
       "\n",
       "    .dataframe thead th {\n",
       "        text-align: right;\n",
       "    }\n",
       "</style>\n",
       "<table border=\"1\" class=\"dataframe\">\n",
       "  <thead>\n",
       "    <tr style=\"text-align: right;\">\n",
       "      <th></th>\n",
       "      <th>Continent</th>\n",
       "      <th>Country</th>\n",
       "    </tr>\n",
       "  </thead>\n",
       "  <tbody>\n",
       "    <tr>\n",
       "      <th>0</th>\n",
       "      <td>Africa</td>\n",
       "      <td>12</td>\n",
       "    </tr>\n",
       "    <tr>\n",
       "      <th>1</th>\n",
       "      <td>America</td>\n",
       "      <td>36</td>\n",
       "    </tr>\n",
       "    <tr>\n",
       "      <th>2</th>\n",
       "      <td>Asia</td>\n",
       "      <td>96</td>\n",
       "    </tr>\n",
       "    <tr>\n",
       "      <th>3</th>\n",
       "      <td>Europa</td>\n",
       "      <td>43</td>\n",
       "    </tr>\n",
       "    <tr>\n",
       "      <th>4</th>\n",
       "      <td>Oceania</td>\n",
       "      <td>8</td>\n",
       "    </tr>\n",
       "  </tbody>\n",
       "</table>\n",
       "</div>"
      ],
      "text/plain": [
       "  Continent  Country\n",
       "0    Africa       12\n",
       "1   America       36\n",
       "2      Asia       96\n",
       "3    Europa       43\n",
       "4   Oceania        8"
      ]
     },
     "execution_count": 7,
     "metadata": {},
     "output_type": "execute_result"
    }
   ],
   "source": [
    "world['Continent'].unique() #saca los valores unicos de la columna:\n",
    "continentes_paises =world.groupby('Continent')['Country'].count()\n",
    "type(continentes_paises) #me devuleve un a serie de pandas pero necesito un df por eso añado el reset_index\n",
    "continentes_paises =world.groupby('Continent')['Country'].count().reset_index()\n",
    "continentes_paises\n",
    "# a partir de que ya tenemos nuestro df hacemos el grafico de tarta con plotly-express"
   ]
  },
  {
   "cell_type": "code",
   "execution_count": 8,
   "metadata": {},
   "outputs": [
    {
     "data": {
      "application/vnd.plotly.v1+json": {
       "config": {
        "plotlyServerURL": "https://plot.ly"
       },
       "data": [
        {
         "domain": {
          "x": [
           0,
           1
          ],
          "y": [
           0,
           1
          ]
         },
         "hovertemplate": "Continent=%{label}<br>Country=%{value}<extra></extra>",
         "labels": [
          "Africa",
          "America",
          "Asia",
          "Europa",
          "Oceania"
         ],
         "legendgroup": "",
         "name": "",
         "showlegend": true,
         "type": "pie",
         "values": [
          12,
          36,
          96,
          43,
          8
         ]
        }
       ],
       "layout": {
        "legend": {
         "tracegroupgap": 0,
         "x": 0.75,
         "xanchor": "right",
         "y": 0.99,
         "yanchor": "top"
        },
        "margin": {
         "t": 60
        },
        "template": {
         "data": {
          "bar": [
           {
            "error_x": {
             "color": "#2a3f5f"
            },
            "error_y": {
             "color": "#2a3f5f"
            },
            "marker": {
             "line": {
              "color": "#E5ECF6",
              "width": 0.5
             },
             "pattern": {
              "fillmode": "overlay",
              "size": 10,
              "solidity": 0.2
             }
            },
            "type": "bar"
           }
          ],
          "barpolar": [
           {
            "marker": {
             "line": {
              "color": "#E5ECF6",
              "width": 0.5
             },
             "pattern": {
              "fillmode": "overlay",
              "size": 10,
              "solidity": 0.2
             }
            },
            "type": "barpolar"
           }
          ],
          "carpet": [
           {
            "aaxis": {
             "endlinecolor": "#2a3f5f",
             "gridcolor": "white",
             "linecolor": "white",
             "minorgridcolor": "white",
             "startlinecolor": "#2a3f5f"
            },
            "baxis": {
             "endlinecolor": "#2a3f5f",
             "gridcolor": "white",
             "linecolor": "white",
             "minorgridcolor": "white",
             "startlinecolor": "#2a3f5f"
            },
            "type": "carpet"
           }
          ],
          "choropleth": [
           {
            "colorbar": {
             "outlinewidth": 0,
             "ticks": ""
            },
            "type": "choropleth"
           }
          ],
          "contour": [
           {
            "colorbar": {
             "outlinewidth": 0,
             "ticks": ""
            },
            "colorscale": [
             [
              0,
              "#0d0887"
             ],
             [
              0.1111111111111111,
              "#46039f"
             ],
             [
              0.2222222222222222,
              "#7201a8"
             ],
             [
              0.3333333333333333,
              "#9c179e"
             ],
             [
              0.4444444444444444,
              "#bd3786"
             ],
             [
              0.5555555555555556,
              "#d8576b"
             ],
             [
              0.6666666666666666,
              "#ed7953"
             ],
             [
              0.7777777777777778,
              "#fb9f3a"
             ],
             [
              0.8888888888888888,
              "#fdca26"
             ],
             [
              1,
              "#f0f921"
             ]
            ],
            "type": "contour"
           }
          ],
          "contourcarpet": [
           {
            "colorbar": {
             "outlinewidth": 0,
             "ticks": ""
            },
            "type": "contourcarpet"
           }
          ],
          "heatmap": [
           {
            "colorbar": {
             "outlinewidth": 0,
             "ticks": ""
            },
            "colorscale": [
             [
              0,
              "#0d0887"
             ],
             [
              0.1111111111111111,
              "#46039f"
             ],
             [
              0.2222222222222222,
              "#7201a8"
             ],
             [
              0.3333333333333333,
              "#9c179e"
             ],
             [
              0.4444444444444444,
              "#bd3786"
             ],
             [
              0.5555555555555556,
              "#d8576b"
             ],
             [
              0.6666666666666666,
              "#ed7953"
             ],
             [
              0.7777777777777778,
              "#fb9f3a"
             ],
             [
              0.8888888888888888,
              "#fdca26"
             ],
             [
              1,
              "#f0f921"
             ]
            ],
            "type": "heatmap"
           }
          ],
          "heatmapgl": [
           {
            "colorbar": {
             "outlinewidth": 0,
             "ticks": ""
            },
            "colorscale": [
             [
              0,
              "#0d0887"
             ],
             [
              0.1111111111111111,
              "#46039f"
             ],
             [
              0.2222222222222222,
              "#7201a8"
             ],
             [
              0.3333333333333333,
              "#9c179e"
             ],
             [
              0.4444444444444444,
              "#bd3786"
             ],
             [
              0.5555555555555556,
              "#d8576b"
             ],
             [
              0.6666666666666666,
              "#ed7953"
             ],
             [
              0.7777777777777778,
              "#fb9f3a"
             ],
             [
              0.8888888888888888,
              "#fdca26"
             ],
             [
              1,
              "#f0f921"
             ]
            ],
            "type": "heatmapgl"
           }
          ],
          "histogram": [
           {
            "marker": {
             "pattern": {
              "fillmode": "overlay",
              "size": 10,
              "solidity": 0.2
             }
            },
            "type": "histogram"
           }
          ],
          "histogram2d": [
           {
            "colorbar": {
             "outlinewidth": 0,
             "ticks": ""
            },
            "colorscale": [
             [
              0,
              "#0d0887"
             ],
             [
              0.1111111111111111,
              "#46039f"
             ],
             [
              0.2222222222222222,
              "#7201a8"
             ],
             [
              0.3333333333333333,
              "#9c179e"
             ],
             [
              0.4444444444444444,
              "#bd3786"
             ],
             [
              0.5555555555555556,
              "#d8576b"
             ],
             [
              0.6666666666666666,
              "#ed7953"
             ],
             [
              0.7777777777777778,
              "#fb9f3a"
             ],
             [
              0.8888888888888888,
              "#fdca26"
             ],
             [
              1,
              "#f0f921"
             ]
            ],
            "type": "histogram2d"
           }
          ],
          "histogram2dcontour": [
           {
            "colorbar": {
             "outlinewidth": 0,
             "ticks": ""
            },
            "colorscale": [
             [
              0,
              "#0d0887"
             ],
             [
              0.1111111111111111,
              "#46039f"
             ],
             [
              0.2222222222222222,
              "#7201a8"
             ],
             [
              0.3333333333333333,
              "#9c179e"
             ],
             [
              0.4444444444444444,
              "#bd3786"
             ],
             [
              0.5555555555555556,
              "#d8576b"
             ],
             [
              0.6666666666666666,
              "#ed7953"
             ],
             [
              0.7777777777777778,
              "#fb9f3a"
             ],
             [
              0.8888888888888888,
              "#fdca26"
             ],
             [
              1,
              "#f0f921"
             ]
            ],
            "type": "histogram2dcontour"
           }
          ],
          "mesh3d": [
           {
            "colorbar": {
             "outlinewidth": 0,
             "ticks": ""
            },
            "type": "mesh3d"
           }
          ],
          "parcoords": [
           {
            "line": {
             "colorbar": {
              "outlinewidth": 0,
              "ticks": ""
             }
            },
            "type": "parcoords"
           }
          ],
          "pie": [
           {
            "automargin": true,
            "type": "pie"
           }
          ],
          "scatter": [
           {
            "fillpattern": {
             "fillmode": "overlay",
             "size": 10,
             "solidity": 0.2
            },
            "type": "scatter"
           }
          ],
          "scatter3d": [
           {
            "line": {
             "colorbar": {
              "outlinewidth": 0,
              "ticks": ""
             }
            },
            "marker": {
             "colorbar": {
              "outlinewidth": 0,
              "ticks": ""
             }
            },
            "type": "scatter3d"
           }
          ],
          "scattercarpet": [
           {
            "marker": {
             "colorbar": {
              "outlinewidth": 0,
              "ticks": ""
             }
            },
            "type": "scattercarpet"
           }
          ],
          "scattergeo": [
           {
            "marker": {
             "colorbar": {
              "outlinewidth": 0,
              "ticks": ""
             }
            },
            "type": "scattergeo"
           }
          ],
          "scattergl": [
           {
            "marker": {
             "colorbar": {
              "outlinewidth": 0,
              "ticks": ""
             }
            },
            "type": "scattergl"
           }
          ],
          "scattermapbox": [
           {
            "marker": {
             "colorbar": {
              "outlinewidth": 0,
              "ticks": ""
             }
            },
            "type": "scattermapbox"
           }
          ],
          "scatterpolar": [
           {
            "marker": {
             "colorbar": {
              "outlinewidth": 0,
              "ticks": ""
             }
            },
            "type": "scatterpolar"
           }
          ],
          "scatterpolargl": [
           {
            "marker": {
             "colorbar": {
              "outlinewidth": 0,
              "ticks": ""
             }
            },
            "type": "scatterpolargl"
           }
          ],
          "scatterternary": [
           {
            "marker": {
             "colorbar": {
              "outlinewidth": 0,
              "ticks": ""
             }
            },
            "type": "scatterternary"
           }
          ],
          "surface": [
           {
            "colorbar": {
             "outlinewidth": 0,
             "ticks": ""
            },
            "colorscale": [
             [
              0,
              "#0d0887"
             ],
             [
              0.1111111111111111,
              "#46039f"
             ],
             [
              0.2222222222222222,
              "#7201a8"
             ],
             [
              0.3333333333333333,
              "#9c179e"
             ],
             [
              0.4444444444444444,
              "#bd3786"
             ],
             [
              0.5555555555555556,
              "#d8576b"
             ],
             [
              0.6666666666666666,
              "#ed7953"
             ],
             [
              0.7777777777777778,
              "#fb9f3a"
             ],
             [
              0.8888888888888888,
              "#fdca26"
             ],
             [
              1,
              "#f0f921"
             ]
            ],
            "type": "surface"
           }
          ],
          "table": [
           {
            "cells": {
             "fill": {
              "color": "#EBF0F8"
             },
             "line": {
              "color": "white"
             }
            },
            "header": {
             "fill": {
              "color": "#C8D4E3"
             },
             "line": {
              "color": "white"
             }
            },
            "type": "table"
           }
          ]
         },
         "layout": {
          "annotationdefaults": {
           "arrowcolor": "#2a3f5f",
           "arrowhead": 0,
           "arrowwidth": 1
          },
          "autotypenumbers": "strict",
          "coloraxis": {
           "colorbar": {
            "outlinewidth": 0,
            "ticks": ""
           }
          },
          "colorscale": {
           "diverging": [
            [
             0,
             "#8e0152"
            ],
            [
             0.1,
             "#c51b7d"
            ],
            [
             0.2,
             "#de77ae"
            ],
            [
             0.3,
             "#f1b6da"
            ],
            [
             0.4,
             "#fde0ef"
            ],
            [
             0.5,
             "#f7f7f7"
            ],
            [
             0.6,
             "#e6f5d0"
            ],
            [
             0.7,
             "#b8e186"
            ],
            [
             0.8,
             "#7fbc41"
            ],
            [
             0.9,
             "#4d9221"
            ],
            [
             1,
             "#276419"
            ]
           ],
           "sequential": [
            [
             0,
             "#0d0887"
            ],
            [
             0.1111111111111111,
             "#46039f"
            ],
            [
             0.2222222222222222,
             "#7201a8"
            ],
            [
             0.3333333333333333,
             "#9c179e"
            ],
            [
             0.4444444444444444,
             "#bd3786"
            ],
            [
             0.5555555555555556,
             "#d8576b"
            ],
            [
             0.6666666666666666,
             "#ed7953"
            ],
            [
             0.7777777777777778,
             "#fb9f3a"
            ],
            [
             0.8888888888888888,
             "#fdca26"
            ],
            [
             1,
             "#f0f921"
            ]
           ],
           "sequentialminus": [
            [
             0,
             "#0d0887"
            ],
            [
             0.1111111111111111,
             "#46039f"
            ],
            [
             0.2222222222222222,
             "#7201a8"
            ],
            [
             0.3333333333333333,
             "#9c179e"
            ],
            [
             0.4444444444444444,
             "#bd3786"
            ],
            [
             0.5555555555555556,
             "#d8576b"
            ],
            [
             0.6666666666666666,
             "#ed7953"
            ],
            [
             0.7777777777777778,
             "#fb9f3a"
            ],
            [
             0.8888888888888888,
             "#fdca26"
            ],
            [
             1,
             "#f0f921"
            ]
           ]
          },
          "colorway": [
           "#636efa",
           "#EF553B",
           "#00cc96",
           "#ab63fa",
           "#FFA15A",
           "#19d3f3",
           "#FF6692",
           "#B6E880",
           "#FF97FF",
           "#FECB52"
          ],
          "font": {
           "color": "#2a3f5f"
          },
          "geo": {
           "bgcolor": "white",
           "lakecolor": "white",
           "landcolor": "#E5ECF6",
           "showlakes": true,
           "showland": true,
           "subunitcolor": "white"
          },
          "hoverlabel": {
           "align": "left"
          },
          "hovermode": "closest",
          "mapbox": {
           "style": "light"
          },
          "paper_bgcolor": "white",
          "plot_bgcolor": "#E5ECF6",
          "polar": {
           "angularaxis": {
            "gridcolor": "white",
            "linecolor": "white",
            "ticks": ""
           },
           "bgcolor": "#E5ECF6",
           "radialaxis": {
            "gridcolor": "white",
            "linecolor": "white",
            "ticks": ""
           }
          },
          "scene": {
           "xaxis": {
            "backgroundcolor": "#E5ECF6",
            "gridcolor": "white",
            "gridwidth": 2,
            "linecolor": "white",
            "showbackground": true,
            "ticks": "",
            "zerolinecolor": "white"
           },
           "yaxis": {
            "backgroundcolor": "#E5ECF6",
            "gridcolor": "white",
            "gridwidth": 2,
            "linecolor": "white",
            "showbackground": true,
            "ticks": "",
            "zerolinecolor": "white"
           },
           "zaxis": {
            "backgroundcolor": "#E5ECF6",
            "gridcolor": "white",
            "gridwidth": 2,
            "linecolor": "white",
            "showbackground": true,
            "ticks": "",
            "zerolinecolor": "white"
           }
          },
          "shapedefaults": {
           "line": {
            "color": "#2a3f5f"
           }
          },
          "ternary": {
           "aaxis": {
            "gridcolor": "white",
            "linecolor": "white",
            "ticks": ""
           },
           "baxis": {
            "gridcolor": "white",
            "linecolor": "white",
            "ticks": ""
           },
           "bgcolor": "#E5ECF6",
           "caxis": {
            "gridcolor": "white",
            "linecolor": "white",
            "ticks": ""
           }
          },
          "title": {
           "x": 0.05
          },
          "xaxis": {
           "automargin": true,
           "gridcolor": "white",
           "linecolor": "white",
           "ticks": "",
           "title": {
            "standoff": 15
           },
           "zerolinecolor": "white",
           "zerolinewidth": 2
          },
          "yaxis": {
           "automargin": true,
           "gridcolor": "white",
           "linecolor": "white",
           "ticks": "",
           "title": {
            "standoff": 15
           },
           "zerolinecolor": "white",
           "zerolinewidth": 2
          }
         }
        },
        "title": {
         "automargin": true,
         "font": {
          "size": 30
         },
         "text": "Distribución de países por continente.",
         "x": 0.2,
         "y": 1,
         "yref": "paper"
        }
       }
      }
     },
     "metadata": {},
     "output_type": "display_data"
    }
   ],
   "source": [
    "# Ahora crearemos nuestro pieplot\n",
    "plot = px.pie(continentes_paises, values = 'Country', names = 'Continent')\n",
    "# En plotly para poder modificar cómo nos muestra la információn el gráfico usamos 'update_layout'\n",
    "plot.update_layout(\n",
    "    title=dict(text = \"Distribución de países por continente.\", font = dict(size = 30), automargin = True, yref = 'paper', x = 0.2,y = 1),\n",
    "    legend=dict(\n",
    "    yanchor = \"top\",\n",
    "    y = 0.99,\n",
    "    xanchor = \"right\",\n",
    "    x = 0.75))\n",
    "\n",
    "plot      \n",
    "\n",
    "      "
   ]
  },
  {
   "cell_type": "code",
   "execution_count": 17,
   "metadata": {},
   "outputs": [
    {
     "data": {
      "application/vnd.plotly.v1+json": {
       "config": {
        "plotlyServerURL": "https://plot.ly"
       },
       "data": [
        {
         "domain": {
          "x": [
           0,
           1
          ],
          "y": [
           0,
           1
          ]
         },
         "hovertemplate": "Continent=%{label}<br>Country=%{value}<extra></extra>",
         "labels": [
          "Africa",
          "America",
          "Asia",
          "Europa",
          "Oceania"
         ],
         "legendgroup": "",
         "name": "",
         "showlegend": true,
         "type": "pie",
         "values": [
          12,
          36,
          96,
          43,
          8
         ]
        }
       ],
       "layout": {
        "legend": {
         "tracegroupgap": 0
        },
        "margin": {
         "t": 60
        },
        "template": {
         "data": {
          "bar": [
           {
            "error_x": {
             "color": "#2a3f5f"
            },
            "error_y": {
             "color": "#2a3f5f"
            },
            "marker": {
             "line": {
              "color": "#E5ECF6",
              "width": 0.5
             },
             "pattern": {
              "fillmode": "overlay",
              "size": 10,
              "solidity": 0.2
             }
            },
            "type": "bar"
           }
          ],
          "barpolar": [
           {
            "marker": {
             "line": {
              "color": "#E5ECF6",
              "width": 0.5
             },
             "pattern": {
              "fillmode": "overlay",
              "size": 10,
              "solidity": 0.2
             }
            },
            "type": "barpolar"
           }
          ],
          "carpet": [
           {
            "aaxis": {
             "endlinecolor": "#2a3f5f",
             "gridcolor": "white",
             "linecolor": "white",
             "minorgridcolor": "white",
             "startlinecolor": "#2a3f5f"
            },
            "baxis": {
             "endlinecolor": "#2a3f5f",
             "gridcolor": "white",
             "linecolor": "white",
             "minorgridcolor": "white",
             "startlinecolor": "#2a3f5f"
            },
            "type": "carpet"
           }
          ],
          "choropleth": [
           {
            "colorbar": {
             "outlinewidth": 0,
             "ticks": ""
            },
            "type": "choropleth"
           }
          ],
          "contour": [
           {
            "colorbar": {
             "outlinewidth": 0,
             "ticks": ""
            },
            "colorscale": [
             [
              0,
              "#0d0887"
             ],
             [
              0.1111111111111111,
              "#46039f"
             ],
             [
              0.2222222222222222,
              "#7201a8"
             ],
             [
              0.3333333333333333,
              "#9c179e"
             ],
             [
              0.4444444444444444,
              "#bd3786"
             ],
             [
              0.5555555555555556,
              "#d8576b"
             ],
             [
              0.6666666666666666,
              "#ed7953"
             ],
             [
              0.7777777777777778,
              "#fb9f3a"
             ],
             [
              0.8888888888888888,
              "#fdca26"
             ],
             [
              1,
              "#f0f921"
             ]
            ],
            "type": "contour"
           }
          ],
          "contourcarpet": [
           {
            "colorbar": {
             "outlinewidth": 0,
             "ticks": ""
            },
            "type": "contourcarpet"
           }
          ],
          "heatmap": [
           {
            "colorbar": {
             "outlinewidth": 0,
             "ticks": ""
            },
            "colorscale": [
             [
              0,
              "#0d0887"
             ],
             [
              0.1111111111111111,
              "#46039f"
             ],
             [
              0.2222222222222222,
              "#7201a8"
             ],
             [
              0.3333333333333333,
              "#9c179e"
             ],
             [
              0.4444444444444444,
              "#bd3786"
             ],
             [
              0.5555555555555556,
              "#d8576b"
             ],
             [
              0.6666666666666666,
              "#ed7953"
             ],
             [
              0.7777777777777778,
              "#fb9f3a"
             ],
             [
              0.8888888888888888,
              "#fdca26"
             ],
             [
              1,
              "#f0f921"
             ]
            ],
            "type": "heatmap"
           }
          ],
          "heatmapgl": [
           {
            "colorbar": {
             "outlinewidth": 0,
             "ticks": ""
            },
            "colorscale": [
             [
              0,
              "#0d0887"
             ],
             [
              0.1111111111111111,
              "#46039f"
             ],
             [
              0.2222222222222222,
              "#7201a8"
             ],
             [
              0.3333333333333333,
              "#9c179e"
             ],
             [
              0.4444444444444444,
              "#bd3786"
             ],
             [
              0.5555555555555556,
              "#d8576b"
             ],
             [
              0.6666666666666666,
              "#ed7953"
             ],
             [
              0.7777777777777778,
              "#fb9f3a"
             ],
             [
              0.8888888888888888,
              "#fdca26"
             ],
             [
              1,
              "#f0f921"
             ]
            ],
            "type": "heatmapgl"
           }
          ],
          "histogram": [
           {
            "marker": {
             "pattern": {
              "fillmode": "overlay",
              "size": 10,
              "solidity": 0.2
             }
            },
            "type": "histogram"
           }
          ],
          "histogram2d": [
           {
            "colorbar": {
             "outlinewidth": 0,
             "ticks": ""
            },
            "colorscale": [
             [
              0,
              "#0d0887"
             ],
             [
              0.1111111111111111,
              "#46039f"
             ],
             [
              0.2222222222222222,
              "#7201a8"
             ],
             [
              0.3333333333333333,
              "#9c179e"
             ],
             [
              0.4444444444444444,
              "#bd3786"
             ],
             [
              0.5555555555555556,
              "#d8576b"
             ],
             [
              0.6666666666666666,
              "#ed7953"
             ],
             [
              0.7777777777777778,
              "#fb9f3a"
             ],
             [
              0.8888888888888888,
              "#fdca26"
             ],
             [
              1,
              "#f0f921"
             ]
            ],
            "type": "histogram2d"
           }
          ],
          "histogram2dcontour": [
           {
            "colorbar": {
             "outlinewidth": 0,
             "ticks": ""
            },
            "colorscale": [
             [
              0,
              "#0d0887"
             ],
             [
              0.1111111111111111,
              "#46039f"
             ],
             [
              0.2222222222222222,
              "#7201a8"
             ],
             [
              0.3333333333333333,
              "#9c179e"
             ],
             [
              0.4444444444444444,
              "#bd3786"
             ],
             [
              0.5555555555555556,
              "#d8576b"
             ],
             [
              0.6666666666666666,
              "#ed7953"
             ],
             [
              0.7777777777777778,
              "#fb9f3a"
             ],
             [
              0.8888888888888888,
              "#fdca26"
             ],
             [
              1,
              "#f0f921"
             ]
            ],
            "type": "histogram2dcontour"
           }
          ],
          "mesh3d": [
           {
            "colorbar": {
             "outlinewidth": 0,
             "ticks": ""
            },
            "type": "mesh3d"
           }
          ],
          "parcoords": [
           {
            "line": {
             "colorbar": {
              "outlinewidth": 0,
              "ticks": ""
             }
            },
            "type": "parcoords"
           }
          ],
          "pie": [
           {
            "automargin": true,
            "type": "pie"
           }
          ],
          "scatter": [
           {
            "fillpattern": {
             "fillmode": "overlay",
             "size": 10,
             "solidity": 0.2
            },
            "type": "scatter"
           }
          ],
          "scatter3d": [
           {
            "line": {
             "colorbar": {
              "outlinewidth": 0,
              "ticks": ""
             }
            },
            "marker": {
             "colorbar": {
              "outlinewidth": 0,
              "ticks": ""
             }
            },
            "type": "scatter3d"
           }
          ],
          "scattercarpet": [
           {
            "marker": {
             "colorbar": {
              "outlinewidth": 0,
              "ticks": ""
             }
            },
            "type": "scattercarpet"
           }
          ],
          "scattergeo": [
           {
            "marker": {
             "colorbar": {
              "outlinewidth": 0,
              "ticks": ""
             }
            },
            "type": "scattergeo"
           }
          ],
          "scattergl": [
           {
            "marker": {
             "colorbar": {
              "outlinewidth": 0,
              "ticks": ""
             }
            },
            "type": "scattergl"
           }
          ],
          "scattermapbox": [
           {
            "marker": {
             "colorbar": {
              "outlinewidth": 0,
              "ticks": ""
             }
            },
            "type": "scattermapbox"
           }
          ],
          "scatterpolar": [
           {
            "marker": {
             "colorbar": {
              "outlinewidth": 0,
              "ticks": ""
             }
            },
            "type": "scatterpolar"
           }
          ],
          "scatterpolargl": [
           {
            "marker": {
             "colorbar": {
              "outlinewidth": 0,
              "ticks": ""
             }
            },
            "type": "scatterpolargl"
           }
          ],
          "scatterternary": [
           {
            "marker": {
             "colorbar": {
              "outlinewidth": 0,
              "ticks": ""
             }
            },
            "type": "scatterternary"
           }
          ],
          "surface": [
           {
            "colorbar": {
             "outlinewidth": 0,
             "ticks": ""
            },
            "colorscale": [
             [
              0,
              "#0d0887"
             ],
             [
              0.1111111111111111,
              "#46039f"
             ],
             [
              0.2222222222222222,
              "#7201a8"
             ],
             [
              0.3333333333333333,
              "#9c179e"
             ],
             [
              0.4444444444444444,
              "#bd3786"
             ],
             [
              0.5555555555555556,
              "#d8576b"
             ],
             [
              0.6666666666666666,
              "#ed7953"
             ],
             [
              0.7777777777777778,
              "#fb9f3a"
             ],
             [
              0.8888888888888888,
              "#fdca26"
             ],
             [
              1,
              "#f0f921"
             ]
            ],
            "type": "surface"
           }
          ],
          "table": [
           {
            "cells": {
             "fill": {
              "color": "#EBF0F8"
             },
             "line": {
              "color": "white"
             }
            },
            "header": {
             "fill": {
              "color": "#C8D4E3"
             },
             "line": {
              "color": "white"
             }
            },
            "type": "table"
           }
          ]
         },
         "layout": {
          "annotationdefaults": {
           "arrowcolor": "#2a3f5f",
           "arrowhead": 0,
           "arrowwidth": 1
          },
          "autotypenumbers": "strict",
          "coloraxis": {
           "colorbar": {
            "outlinewidth": 0,
            "ticks": ""
           }
          },
          "colorscale": {
           "diverging": [
            [
             0,
             "#8e0152"
            ],
            [
             0.1,
             "#c51b7d"
            ],
            [
             0.2,
             "#de77ae"
            ],
            [
             0.3,
             "#f1b6da"
            ],
            [
             0.4,
             "#fde0ef"
            ],
            [
             0.5,
             "#f7f7f7"
            ],
            [
             0.6,
             "#e6f5d0"
            ],
            [
             0.7,
             "#b8e186"
            ],
            [
             0.8,
             "#7fbc41"
            ],
            [
             0.9,
             "#4d9221"
            ],
            [
             1,
             "#276419"
            ]
           ],
           "sequential": [
            [
             0,
             "#0d0887"
            ],
            [
             0.1111111111111111,
             "#46039f"
            ],
            [
             0.2222222222222222,
             "#7201a8"
            ],
            [
             0.3333333333333333,
             "#9c179e"
            ],
            [
             0.4444444444444444,
             "#bd3786"
            ],
            [
             0.5555555555555556,
             "#d8576b"
            ],
            [
             0.6666666666666666,
             "#ed7953"
            ],
            [
             0.7777777777777778,
             "#fb9f3a"
            ],
            [
             0.8888888888888888,
             "#fdca26"
            ],
            [
             1,
             "#f0f921"
            ]
           ],
           "sequentialminus": [
            [
             0,
             "#0d0887"
            ],
            [
             0.1111111111111111,
             "#46039f"
            ],
            [
             0.2222222222222222,
             "#7201a8"
            ],
            [
             0.3333333333333333,
             "#9c179e"
            ],
            [
             0.4444444444444444,
             "#bd3786"
            ],
            [
             0.5555555555555556,
             "#d8576b"
            ],
            [
             0.6666666666666666,
             "#ed7953"
            ],
            [
             0.7777777777777778,
             "#fb9f3a"
            ],
            [
             0.8888888888888888,
             "#fdca26"
            ],
            [
             1,
             "#f0f921"
            ]
           ]
          },
          "colorway": [
           "#636efa",
           "#EF553B",
           "#00cc96",
           "#ab63fa",
           "#FFA15A",
           "#19d3f3",
           "#FF6692",
           "#B6E880",
           "#FF97FF",
           "#FECB52"
          ],
          "font": {
           "color": "#2a3f5f"
          },
          "geo": {
           "bgcolor": "white",
           "lakecolor": "white",
           "landcolor": "#E5ECF6",
           "showlakes": true,
           "showland": true,
           "subunitcolor": "white"
          },
          "hoverlabel": {
           "align": "left"
          },
          "hovermode": "closest",
          "mapbox": {
           "style": "light"
          },
          "paper_bgcolor": "white",
          "plot_bgcolor": "#E5ECF6",
          "polar": {
           "angularaxis": {
            "gridcolor": "white",
            "linecolor": "white",
            "ticks": ""
           },
           "bgcolor": "#E5ECF6",
           "radialaxis": {
            "gridcolor": "white",
            "linecolor": "white",
            "ticks": ""
           }
          },
          "scene": {
           "xaxis": {
            "backgroundcolor": "#E5ECF6",
            "gridcolor": "white",
            "gridwidth": 2,
            "linecolor": "white",
            "showbackground": true,
            "ticks": "",
            "zerolinecolor": "white"
           },
           "yaxis": {
            "backgroundcolor": "#E5ECF6",
            "gridcolor": "white",
            "gridwidth": 2,
            "linecolor": "white",
            "showbackground": true,
            "ticks": "",
            "zerolinecolor": "white"
           },
           "zaxis": {
            "backgroundcolor": "#E5ECF6",
            "gridcolor": "white",
            "gridwidth": 2,
            "linecolor": "white",
            "showbackground": true,
            "ticks": "",
            "zerolinecolor": "white"
           }
          },
          "shapedefaults": {
           "line": {
            "color": "#2a3f5f"
           }
          },
          "ternary": {
           "aaxis": {
            "gridcolor": "white",
            "linecolor": "white",
            "ticks": ""
           },
           "baxis": {
            "gridcolor": "white",
            "linecolor": "white",
            "ticks": ""
           },
           "bgcolor": "#E5ECF6",
           "caxis": {
            "gridcolor": "white",
            "linecolor": "white",
            "ticks": ""
           }
          },
          "title": {
           "x": 0.05
          },
          "xaxis": {
           "automargin": true,
           "gridcolor": "white",
           "linecolor": "white",
           "ticks": "",
           "title": {
            "standoff": 15
           },
           "zerolinecolor": "white",
           "zerolinewidth": 2
          },
          "yaxis": {
           "automargin": true,
           "gridcolor": "white",
           "linecolor": "white",
           "ticks": "",
           "title": {
            "standoff": 15
           },
           "zerolinecolor": "white",
           "zerolinewidth": 2
          }
         }
        },
        "title": {
         "text": "Distribución de paises por continente"
        }
       }
      }
     },
     "metadata": {},
     "output_type": "display_data"
    }
   ],
   "source": [
    "tarta =px.pie(data_frame= continentes_paises,\n",
    "             names = 'Continent',\n",
    "             values ='Country')\n",
    "tarta.update_layout(title= 'Distribución de paises por continente')\n",
    "tarta.show()\n"
   ]
  },
  {
   "cell_type": "markdown",
   "metadata": {},
   "source": [
    "2.2.5. ¿Cuál es la mediana de la esperanza de vida en Europa? Proporciona un rango intercuartil aproximado y verifica si existen valores atípicos.(Boxplot)"
   ]
  },
  {
   "cell_type": "code",
   "execution_count": 10,
   "metadata": {},
   "outputs": [
    {
     "data": {
      "text/html": [
       "<div>\n",
       "<style scoped>\n",
       "    .dataframe tbody tr th:only-of-type {\n",
       "        vertical-align: middle;\n",
       "    }\n",
       "\n",
       "    .dataframe tbody tr th {\n",
       "        vertical-align: top;\n",
       "    }\n",
       "\n",
       "    .dataframe thead th {\n",
       "        text-align: right;\n",
       "    }\n",
       "</style>\n",
       "<table border=\"1\" class=\"dataframe\">\n",
       "  <thead>\n",
       "    <tr style=\"text-align: right;\">\n",
       "      <th></th>\n",
       "      <th>count</th>\n",
       "      <th>mean</th>\n",
       "      <th>std</th>\n",
       "      <th>min</th>\n",
       "      <th>25%</th>\n",
       "      <th>50%</th>\n",
       "      <th>75%</th>\n",
       "      <th>max</th>\n",
       "    </tr>\n",
       "  </thead>\n",
       "  <tbody>\n",
       "    <tr>\n",
       "      <th>Density\\n(P/Km2)</th>\n",
       "      <td>43.0</td>\n",
       "      <td>8.189302e+02</td>\n",
       "      <td>4.000144e+03</td>\n",
       "      <td>1.500000e+01</td>\n",
       "      <td>7.250000e+01</td>\n",
       "      <td>1.090000e+02</td>\n",
       "      <td>2.125000e+02</td>\n",
       "      <td>2.633700e+04</td>\n",
       "    </tr>\n",
       "    <tr>\n",
       "      <th>Agricultural Land( %)</th>\n",
       "      <td>40.0</td>\n",
       "      <td>4.198000e+01</td>\n",
       "      <td>1.693835e+01</td>\n",
       "      <td>2.700000e+00</td>\n",
       "      <td>3.235000e+01</td>\n",
       "      <td>4.315000e+01</td>\n",
       "      <td>5.245000e+01</td>\n",
       "      <td>7.420000e+01</td>\n",
       "    </tr>\n",
       "    <tr>\n",
       "      <th>Birth Rate</th>\n",
       "      <td>41.0</td>\n",
       "      <td>9.769512e+00</td>\n",
       "      <td>1.717165e+00</td>\n",
       "      <td>5.900000e+00</td>\n",
       "      <td>8.900000e+00</td>\n",
       "      <td>9.900000e+00</td>\n",
       "      <td>1.060000e+01</td>\n",
       "      <td>1.603000e+01</td>\n",
       "    </tr>\n",
       "    <tr>\n",
       "      <th>Calling Code</th>\n",
       "      <td>43.0</td>\n",
       "      <td>2.450465e+02</td>\n",
       "      <td>1.663837e+02</td>\n",
       "      <td>3.000000e+01</td>\n",
       "      <td>4.450000e+01</td>\n",
       "      <td>3.560000e+02</td>\n",
       "      <td>3.785000e+02</td>\n",
       "      <td>4.230000e+02</td>\n",
       "    </tr>\n",
       "    <tr>\n",
       "      <th>CPI Change (%)</th>\n",
       "      <td>38.0</td>\n",
       "      <td>2.381579e+00</td>\n",
       "      <td>2.632012e+00</td>\n",
       "      <td>2.000000e-01</td>\n",
       "      <td>1.000000e+00</td>\n",
       "      <td>1.700000e+00</td>\n",
       "      <td>2.675000e+00</td>\n",
       "      <td>1.520000e+01</td>\n",
       "    </tr>\n",
       "    <tr>\n",
       "      <th>Fertility Rate</th>\n",
       "      <td>40.0</td>\n",
       "      <td>1.524000e+00</td>\n",
       "      <td>1.899096e-01</td>\n",
       "      <td>1.230000e+00</td>\n",
       "      <td>1.377500e+00</td>\n",
       "      <td>1.530000e+00</td>\n",
       "      <td>1.622500e+00</td>\n",
       "      <td>2.070000e+00</td>\n",
       "    </tr>\n",
       "    <tr>\n",
       "      <th>Forested Area (%)</th>\n",
       "      <td>40.0</td>\n",
       "      <td>3.302000e+01</td>\n",
       "      <td>1.675515e+01</td>\n",
       "      <td>0.000000e+00</td>\n",
       "      <td>2.282500e+01</td>\n",
       "      <td>3.295000e+01</td>\n",
       "      <td>4.095000e+01</td>\n",
       "      <td>7.310000e+01</td>\n",
       "    </tr>\n",
       "    <tr>\n",
       "      <th>Gasoline Price</th>\n",
       "      <td>40.0</td>\n",
       "      <td>1.318750e+00</td>\n",
       "      <td>2.679570e-01</td>\n",
       "      <td>6.000000e-01</td>\n",
       "      <td>1.160000e+00</td>\n",
       "      <td>1.340000e+00</td>\n",
       "      <td>1.452500e+00</td>\n",
       "      <td>2.000000e+00</td>\n",
       "    </tr>\n",
       "    <tr>\n",
       "      <th>GDP</th>\n",
       "      <td>42.0</td>\n",
       "      <td>4.910487e+11</td>\n",
       "      <td>8.525743e+11</td>\n",
       "      <td>1.637931e+09</td>\n",
       "      <td>3.206951e+10</td>\n",
       "      <td>1.573741e+11</td>\n",
       "      <td>5.087837e+11</td>\n",
       "      <td>3.845630e+12</td>\n",
       "    </tr>\n",
       "    <tr>\n",
       "      <th>Gross primary education enrollment (%)</th>\n",
       "      <td>39.0</td>\n",
       "      <td>1.013590e+02</td>\n",
       "      <td>6.276343e+00</td>\n",
       "      <td>8.520000e+01</td>\n",
       "      <td>9.980000e+01</td>\n",
       "      <td>1.009000e+02</td>\n",
       "      <td>1.039500e+02</td>\n",
       "      <td>1.266000e+02</td>\n",
       "    </tr>\n",
       "    <tr>\n",
       "      <th>Gross tertiary education enrollment (%)</th>\n",
       "      <td>39.0</td>\n",
       "      <td>6.572051e+01</td>\n",
       "      <td>2.198992e+01</td>\n",
       "      <td>1.920000e+01</td>\n",
       "      <td>5.465000e+01</td>\n",
       "      <td>6.720000e+01</td>\n",
       "      <td>8.015000e+01</td>\n",
       "      <td>1.366000e+02</td>\n",
       "    </tr>\n",
       "    <tr>\n",
       "      <th>Infant mortality</th>\n",
       "      <td>40.0</td>\n",
       "      <td>3.897500e+00</td>\n",
       "      <td>2.336608e+00</td>\n",
       "      <td>1.400000e+00</td>\n",
       "      <td>2.600000e+00</td>\n",
       "      <td>3.300000e+00</td>\n",
       "      <td>4.150000e+00</td>\n",
       "      <td>1.360000e+01</td>\n",
       "    </tr>\n",
       "    <tr>\n",
       "      <th>Life expectancy</th>\n",
       "      <td>39.0</td>\n",
       "      <td>7.938205e+01</td>\n",
       "      <td>3.483259e+00</td>\n",
       "      <td>7.160000e+01</td>\n",
       "      <td>7.700000e+01</td>\n",
       "      <td>8.100000e+01</td>\n",
       "      <td>8.220000e+01</td>\n",
       "      <td>8.540000e+01</td>\n",
       "    </tr>\n",
       "    <tr>\n",
       "      <th>Maternal mortality ratio</th>\n",
       "      <td>37.0</td>\n",
       "      <td>7.837838e+00</td>\n",
       "      <td>5.257341e+00</td>\n",
       "      <td>2.000000e+00</td>\n",
       "      <td>4.000000e+00</td>\n",
       "      <td>6.000000e+00</td>\n",
       "      <td>1.000000e+01</td>\n",
       "      <td>1.900000e+01</td>\n",
       "    </tr>\n",
       "    <tr>\n",
       "      <th>Minimum wage</th>\n",
       "      <td>32.0</td>\n",
       "      <td>4.875937e+00</td>\n",
       "      <td>3.852609e+00</td>\n",
       "      <td>3.100000e-01</td>\n",
       "      <td>2.080000e+00</td>\n",
       "      <td>3.125000e+00</td>\n",
       "      <td>7.470000e+00</td>\n",
       "      <td>1.305000e+01</td>\n",
       "    </tr>\n",
       "    <tr>\n",
       "      <th>Out of pocket health expenditure</th>\n",
       "      <td>41.0</td>\n",
       "      <td>2.499268e+01</td>\n",
       "      <td>1.242436e+01</td>\n",
       "      <td>6.100000e+00</td>\n",
       "      <td>1.520000e+01</td>\n",
       "      <td>2.280000e+01</td>\n",
       "      <td>3.450000e+01</td>\n",
       "      <td>5.690000e+01</td>\n",
       "    </tr>\n",
       "    <tr>\n",
       "      <th>Physicians per thousand</th>\n",
       "      <td>40.0</td>\n",
       "      <td>3.693750e+00</td>\n",
       "      <td>1.170701e+00</td>\n",
       "      <td>1.200000e+00</td>\n",
       "      <td>2.997500e+00</td>\n",
       "      <td>3.370000e+00</td>\n",
       "      <td>4.152500e+00</td>\n",
       "      <td>6.560000e+00</td>\n",
       "    </tr>\n",
       "    <tr>\n",
       "      <th>Population</th>\n",
       "      <td>43.0</td>\n",
       "      <td>1.588033e+07</td>\n",
       "      <td>2.347690e+07</td>\n",
       "      <td>8.360000e+02</td>\n",
       "      <td>2.000368e+06</td>\n",
       "      <td>5.818553e+06</td>\n",
       "      <td>1.110019e+07</td>\n",
       "      <td>8.342962e+07</td>\n",
       "    </tr>\n",
       "    <tr>\n",
       "      <th>Population: Labor force participation (%)</th>\n",
       "      <td>37.0</td>\n",
       "      <td>5.771351e+01</td>\n",
       "      <td>5.330841e+00</td>\n",
       "      <td>4.310000e+01</td>\n",
       "      <td>5.470000e+01</td>\n",
       "      <td>5.840000e+01</td>\n",
       "      <td>6.160000e+01</td>\n",
       "      <td>6.830000e+01</td>\n",
       "    </tr>\n",
       "    <tr>\n",
       "      <th>Tax revenue (%)</th>\n",
       "      <td>37.0</td>\n",
       "      <td>2.063243e+01</td>\n",
       "      <td>4.756461e+00</td>\n",
       "      <td>1.010000e+01</td>\n",
       "      <td>1.790000e+01</td>\n",
       "      <td>2.040000e+01</td>\n",
       "      <td>2.400000e+01</td>\n",
       "      <td>3.240000e+01</td>\n",
       "    </tr>\n",
       "    <tr>\n",
       "      <th>Total tax rate</th>\n",
       "      <td>39.0</td>\n",
       "      <td>3.872051e+01</td>\n",
       "      <td>1.137840e+01</td>\n",
       "      <td>2.000000e+01</td>\n",
       "      <td>2.970000e+01</td>\n",
       "      <td>3.870000e+01</td>\n",
       "      <td>4.740000e+01</td>\n",
       "      <td>6.070000e+01</td>\n",
       "    </tr>\n",
       "    <tr>\n",
       "      <th>Unemployment rate</th>\n",
       "      <td>37.0</td>\n",
       "      <td>6.984054e+00</td>\n",
       "      <td>4.228154e+00</td>\n",
       "      <td>1.930000e+00</td>\n",
       "      <td>4.200000e+00</td>\n",
       "      <td>5.470000e+00</td>\n",
       "      <td>8.430000e+00</td>\n",
       "      <td>1.842000e+01</td>\n",
       "    </tr>\n",
       "    <tr>\n",
       "      <th>latitude</th>\n",
       "      <td>43.0</td>\n",
       "      <td>4.785455e+01</td>\n",
       "      <td>6.463110e+00</td>\n",
       "      <td>3.593750e+01</td>\n",
       "      <td>4.272128e+01</td>\n",
       "      <td>4.714104e+01</td>\n",
       "      <td>5.202604e+01</td>\n",
       "      <td>6.192411e+01</td>\n",
       "    </tr>\n",
       "    <tr>\n",
       "      <th>longitude</th>\n",
       "      <td>43.0</td>\n",
       "      <td>1.471767e+01</td>\n",
       "      <td>1.036365e+01</td>\n",
       "      <td>-8.243890e+00</td>\n",
       "      <td>8.348229e+00</td>\n",
       "      <td>1.520000e+01</td>\n",
       "      <td>2.178479e+01</td>\n",
       "      <td>3.524332e+01</td>\n",
       "    </tr>\n",
       "  </tbody>\n",
       "</table>\n",
       "</div>"
      ],
      "text/plain": [
       "                                           count          mean           std  \\\n",
       "Density\\n(P/Km2)                            43.0  8.189302e+02  4.000144e+03   \n",
       "Agricultural Land( %)                       40.0  4.198000e+01  1.693835e+01   \n",
       "Birth Rate                                  41.0  9.769512e+00  1.717165e+00   \n",
       "Calling Code                                43.0  2.450465e+02  1.663837e+02   \n",
       "CPI Change (%)                              38.0  2.381579e+00  2.632012e+00   \n",
       "Fertility Rate                              40.0  1.524000e+00  1.899096e-01   \n",
       "Forested Area (%)                           40.0  3.302000e+01  1.675515e+01   \n",
       "Gasoline Price                              40.0  1.318750e+00  2.679570e-01   \n",
       "GDP                                         42.0  4.910487e+11  8.525743e+11   \n",
       "Gross primary education enrollment (%)      39.0  1.013590e+02  6.276343e+00   \n",
       "Gross tertiary education enrollment (%)     39.0  6.572051e+01  2.198992e+01   \n",
       "Infant mortality                            40.0  3.897500e+00  2.336608e+00   \n",
       "Life expectancy                             39.0  7.938205e+01  3.483259e+00   \n",
       "Maternal mortality ratio                    37.0  7.837838e+00  5.257341e+00   \n",
       "Minimum wage                                32.0  4.875937e+00  3.852609e+00   \n",
       "Out of pocket health expenditure            41.0  2.499268e+01  1.242436e+01   \n",
       "Physicians per thousand                     40.0  3.693750e+00  1.170701e+00   \n",
       "Population                                  43.0  1.588033e+07  2.347690e+07   \n",
       "Population: Labor force participation (%)   37.0  5.771351e+01  5.330841e+00   \n",
       "Tax revenue (%)                             37.0  2.063243e+01  4.756461e+00   \n",
       "Total tax rate                              39.0  3.872051e+01  1.137840e+01   \n",
       "Unemployment rate                           37.0  6.984054e+00  4.228154e+00   \n",
       "latitude                                    43.0  4.785455e+01  6.463110e+00   \n",
       "longitude                                   43.0  1.471767e+01  1.036365e+01   \n",
       "\n",
       "                                                    min           25%  \\\n",
       "Density\\n(P/Km2)                           1.500000e+01  7.250000e+01   \n",
       "Agricultural Land( %)                      2.700000e+00  3.235000e+01   \n",
       "Birth Rate                                 5.900000e+00  8.900000e+00   \n",
       "Calling Code                               3.000000e+01  4.450000e+01   \n",
       "CPI Change (%)                             2.000000e-01  1.000000e+00   \n",
       "Fertility Rate                             1.230000e+00  1.377500e+00   \n",
       "Forested Area (%)                          0.000000e+00  2.282500e+01   \n",
       "Gasoline Price                             6.000000e-01  1.160000e+00   \n",
       "GDP                                        1.637931e+09  3.206951e+10   \n",
       "Gross primary education enrollment (%)     8.520000e+01  9.980000e+01   \n",
       "Gross tertiary education enrollment (%)    1.920000e+01  5.465000e+01   \n",
       "Infant mortality                           1.400000e+00  2.600000e+00   \n",
       "Life expectancy                            7.160000e+01  7.700000e+01   \n",
       "Maternal mortality ratio                   2.000000e+00  4.000000e+00   \n",
       "Minimum wage                               3.100000e-01  2.080000e+00   \n",
       "Out of pocket health expenditure           6.100000e+00  1.520000e+01   \n",
       "Physicians per thousand                    1.200000e+00  2.997500e+00   \n",
       "Population                                 8.360000e+02  2.000368e+06   \n",
       "Population: Labor force participation (%)  4.310000e+01  5.470000e+01   \n",
       "Tax revenue (%)                            1.010000e+01  1.790000e+01   \n",
       "Total tax rate                             2.000000e+01  2.970000e+01   \n",
       "Unemployment rate                          1.930000e+00  4.200000e+00   \n",
       "latitude                                   3.593750e+01  4.272128e+01   \n",
       "longitude                                 -8.243890e+00  8.348229e+00   \n",
       "\n",
       "                                                    50%           75%  \\\n",
       "Density\\n(P/Km2)                           1.090000e+02  2.125000e+02   \n",
       "Agricultural Land( %)                      4.315000e+01  5.245000e+01   \n",
       "Birth Rate                                 9.900000e+00  1.060000e+01   \n",
       "Calling Code                               3.560000e+02  3.785000e+02   \n",
       "CPI Change (%)                             1.700000e+00  2.675000e+00   \n",
       "Fertility Rate                             1.530000e+00  1.622500e+00   \n",
       "Forested Area (%)                          3.295000e+01  4.095000e+01   \n",
       "Gasoline Price                             1.340000e+00  1.452500e+00   \n",
       "GDP                                        1.573741e+11  5.087837e+11   \n",
       "Gross primary education enrollment (%)     1.009000e+02  1.039500e+02   \n",
       "Gross tertiary education enrollment (%)    6.720000e+01  8.015000e+01   \n",
       "Infant mortality                           3.300000e+00  4.150000e+00   \n",
       "Life expectancy                            8.100000e+01  8.220000e+01   \n",
       "Maternal mortality ratio                   6.000000e+00  1.000000e+01   \n",
       "Minimum wage                               3.125000e+00  7.470000e+00   \n",
       "Out of pocket health expenditure           2.280000e+01  3.450000e+01   \n",
       "Physicians per thousand                    3.370000e+00  4.152500e+00   \n",
       "Population                                 5.818553e+06  1.110019e+07   \n",
       "Population: Labor force participation (%)  5.840000e+01  6.160000e+01   \n",
       "Tax revenue (%)                            2.040000e+01  2.400000e+01   \n",
       "Total tax rate                             3.870000e+01  4.740000e+01   \n",
       "Unemployment rate                          5.470000e+00  8.430000e+00   \n",
       "latitude                                   4.714104e+01  5.202604e+01   \n",
       "longitude                                  1.520000e+01  2.178479e+01   \n",
       "\n",
       "                                                    max  \n",
       "Density\\n(P/Km2)                           2.633700e+04  \n",
       "Agricultural Land( %)                      7.420000e+01  \n",
       "Birth Rate                                 1.603000e+01  \n",
       "Calling Code                               4.230000e+02  \n",
       "CPI Change (%)                             1.520000e+01  \n",
       "Fertility Rate                             2.070000e+00  \n",
       "Forested Area (%)                          7.310000e+01  \n",
       "Gasoline Price                             2.000000e+00  \n",
       "GDP                                        3.845630e+12  \n",
       "Gross primary education enrollment (%)     1.266000e+02  \n",
       "Gross tertiary education enrollment (%)    1.366000e+02  \n",
       "Infant mortality                           1.360000e+01  \n",
       "Life expectancy                            8.540000e+01  \n",
       "Maternal mortality ratio                   1.900000e+01  \n",
       "Minimum wage                               1.305000e+01  \n",
       "Out of pocket health expenditure           5.690000e+01  \n",
       "Physicians per thousand                    6.560000e+00  \n",
       "Population                                 8.342962e+07  \n",
       "Population: Labor force participation (%)  6.830000e+01  \n",
       "Tax revenue (%)                            3.240000e+01  \n",
       "Total tax rate                             6.070000e+01  \n",
       "Unemployment rate                          1.842000e+01  \n",
       "latitude                                   6.192411e+01  \n",
       "longitude                                  3.524332e+01  "
      ]
     },
     "execution_count": 10,
     "metadata": {},
     "output_type": "execute_result"
    }
   ],
   "source": [
    "#primero creamos nuestro df de Europa\n",
    "df_Europa = world[world['Continent']== 'Europa' ]\n",
    "df_Europa\n",
    "df_Europa.describe().T"
   ]
  },
  {
   "cell_type": "code",
   "execution_count": 11,
   "metadata": {},
   "outputs": [
    {
     "data": {
      "application/vnd.plotly.v1+json": {
       "config": {
        "plotlyServerURL": "https://plot.ly"
       },
       "data": [
        {
         "alignmentgroup": "True",
         "hovertemplate": "Life expectancy=%{x}<extra></extra>",
         "legendgroup": "",
         "marker": {
          "color": "#636efa"
         },
         "name": "",
         "notched": false,
         "offsetgroup": "",
         "orientation": "h",
         "showlegend": false,
         "type": "box",
         "x": [
          78.5,
          null,
          81.6,
          74.2,
          81.6,
          77.3,
          74.9,
          78.1,
          79,
          81,
          78.2,
          81.7,
          82.5,
          80.9,
          81.3,
          null,
          75.8,
          82.3,
          82.9,
          74.7,
          83,
          75.7,
          82.1,
          82.3,
          71.8,
          null,
          76.8,
          81.8,
          null,
          82.8,
          77.6,
          81.3,
          75.4,
          85.4,
          75.5,
          77.2,
          81,
          83.3,
          82.5,
          83.6,
          77.4,
          71.6,
          81.3
         ],
         "x0": " ",
         "xaxis": "x",
         "y0": " ",
         "yaxis": "y"
        }
       ],
       "layout": {
        "boxmode": "group",
        "legend": {
         "tracegroupgap": 0
        },
        "margin": {
         "t": 60
        },
        "template": {
         "data": {
          "bar": [
           {
            "error_x": {
             "color": "#2a3f5f"
            },
            "error_y": {
             "color": "#2a3f5f"
            },
            "marker": {
             "line": {
              "color": "#E5ECF6",
              "width": 0.5
             },
             "pattern": {
              "fillmode": "overlay",
              "size": 10,
              "solidity": 0.2
             }
            },
            "type": "bar"
           }
          ],
          "barpolar": [
           {
            "marker": {
             "line": {
              "color": "#E5ECF6",
              "width": 0.5
             },
             "pattern": {
              "fillmode": "overlay",
              "size": 10,
              "solidity": 0.2
             }
            },
            "type": "barpolar"
           }
          ],
          "carpet": [
           {
            "aaxis": {
             "endlinecolor": "#2a3f5f",
             "gridcolor": "white",
             "linecolor": "white",
             "minorgridcolor": "white",
             "startlinecolor": "#2a3f5f"
            },
            "baxis": {
             "endlinecolor": "#2a3f5f",
             "gridcolor": "white",
             "linecolor": "white",
             "minorgridcolor": "white",
             "startlinecolor": "#2a3f5f"
            },
            "type": "carpet"
           }
          ],
          "choropleth": [
           {
            "colorbar": {
             "outlinewidth": 0,
             "ticks": ""
            },
            "type": "choropleth"
           }
          ],
          "contour": [
           {
            "colorbar": {
             "outlinewidth": 0,
             "ticks": ""
            },
            "colorscale": [
             [
              0,
              "#0d0887"
             ],
             [
              0.1111111111111111,
              "#46039f"
             ],
             [
              0.2222222222222222,
              "#7201a8"
             ],
             [
              0.3333333333333333,
              "#9c179e"
             ],
             [
              0.4444444444444444,
              "#bd3786"
             ],
             [
              0.5555555555555556,
              "#d8576b"
             ],
             [
              0.6666666666666666,
              "#ed7953"
             ],
             [
              0.7777777777777778,
              "#fb9f3a"
             ],
             [
              0.8888888888888888,
              "#fdca26"
             ],
             [
              1,
              "#f0f921"
             ]
            ],
            "type": "contour"
           }
          ],
          "contourcarpet": [
           {
            "colorbar": {
             "outlinewidth": 0,
             "ticks": ""
            },
            "type": "contourcarpet"
           }
          ],
          "heatmap": [
           {
            "colorbar": {
             "outlinewidth": 0,
             "ticks": ""
            },
            "colorscale": [
             [
              0,
              "#0d0887"
             ],
             [
              0.1111111111111111,
              "#46039f"
             ],
             [
              0.2222222222222222,
              "#7201a8"
             ],
             [
              0.3333333333333333,
              "#9c179e"
             ],
             [
              0.4444444444444444,
              "#bd3786"
             ],
             [
              0.5555555555555556,
              "#d8576b"
             ],
             [
              0.6666666666666666,
              "#ed7953"
             ],
             [
              0.7777777777777778,
              "#fb9f3a"
             ],
             [
              0.8888888888888888,
              "#fdca26"
             ],
             [
              1,
              "#f0f921"
             ]
            ],
            "type": "heatmap"
           }
          ],
          "heatmapgl": [
           {
            "colorbar": {
             "outlinewidth": 0,
             "ticks": ""
            },
            "colorscale": [
             [
              0,
              "#0d0887"
             ],
             [
              0.1111111111111111,
              "#46039f"
             ],
             [
              0.2222222222222222,
              "#7201a8"
             ],
             [
              0.3333333333333333,
              "#9c179e"
             ],
             [
              0.4444444444444444,
              "#bd3786"
             ],
             [
              0.5555555555555556,
              "#d8576b"
             ],
             [
              0.6666666666666666,
              "#ed7953"
             ],
             [
              0.7777777777777778,
              "#fb9f3a"
             ],
             [
              0.8888888888888888,
              "#fdca26"
             ],
             [
              1,
              "#f0f921"
             ]
            ],
            "type": "heatmapgl"
           }
          ],
          "histogram": [
           {
            "marker": {
             "pattern": {
              "fillmode": "overlay",
              "size": 10,
              "solidity": 0.2
             }
            },
            "type": "histogram"
           }
          ],
          "histogram2d": [
           {
            "colorbar": {
             "outlinewidth": 0,
             "ticks": ""
            },
            "colorscale": [
             [
              0,
              "#0d0887"
             ],
             [
              0.1111111111111111,
              "#46039f"
             ],
             [
              0.2222222222222222,
              "#7201a8"
             ],
             [
              0.3333333333333333,
              "#9c179e"
             ],
             [
              0.4444444444444444,
              "#bd3786"
             ],
             [
              0.5555555555555556,
              "#d8576b"
             ],
             [
              0.6666666666666666,
              "#ed7953"
             ],
             [
              0.7777777777777778,
              "#fb9f3a"
             ],
             [
              0.8888888888888888,
              "#fdca26"
             ],
             [
              1,
              "#f0f921"
             ]
            ],
            "type": "histogram2d"
           }
          ],
          "histogram2dcontour": [
           {
            "colorbar": {
             "outlinewidth": 0,
             "ticks": ""
            },
            "colorscale": [
             [
              0,
              "#0d0887"
             ],
             [
              0.1111111111111111,
              "#46039f"
             ],
             [
              0.2222222222222222,
              "#7201a8"
             ],
             [
              0.3333333333333333,
              "#9c179e"
             ],
             [
              0.4444444444444444,
              "#bd3786"
             ],
             [
              0.5555555555555556,
              "#d8576b"
             ],
             [
              0.6666666666666666,
              "#ed7953"
             ],
             [
              0.7777777777777778,
              "#fb9f3a"
             ],
             [
              0.8888888888888888,
              "#fdca26"
             ],
             [
              1,
              "#f0f921"
             ]
            ],
            "type": "histogram2dcontour"
           }
          ],
          "mesh3d": [
           {
            "colorbar": {
             "outlinewidth": 0,
             "ticks": ""
            },
            "type": "mesh3d"
           }
          ],
          "parcoords": [
           {
            "line": {
             "colorbar": {
              "outlinewidth": 0,
              "ticks": ""
             }
            },
            "type": "parcoords"
           }
          ],
          "pie": [
           {
            "automargin": true,
            "type": "pie"
           }
          ],
          "scatter": [
           {
            "fillpattern": {
             "fillmode": "overlay",
             "size": 10,
             "solidity": 0.2
            },
            "type": "scatter"
           }
          ],
          "scatter3d": [
           {
            "line": {
             "colorbar": {
              "outlinewidth": 0,
              "ticks": ""
             }
            },
            "marker": {
             "colorbar": {
              "outlinewidth": 0,
              "ticks": ""
             }
            },
            "type": "scatter3d"
           }
          ],
          "scattercarpet": [
           {
            "marker": {
             "colorbar": {
              "outlinewidth": 0,
              "ticks": ""
             }
            },
            "type": "scattercarpet"
           }
          ],
          "scattergeo": [
           {
            "marker": {
             "colorbar": {
              "outlinewidth": 0,
              "ticks": ""
             }
            },
            "type": "scattergeo"
           }
          ],
          "scattergl": [
           {
            "marker": {
             "colorbar": {
              "outlinewidth": 0,
              "ticks": ""
             }
            },
            "type": "scattergl"
           }
          ],
          "scattermapbox": [
           {
            "marker": {
             "colorbar": {
              "outlinewidth": 0,
              "ticks": ""
             }
            },
            "type": "scattermapbox"
           }
          ],
          "scatterpolar": [
           {
            "marker": {
             "colorbar": {
              "outlinewidth": 0,
              "ticks": ""
             }
            },
            "type": "scatterpolar"
           }
          ],
          "scatterpolargl": [
           {
            "marker": {
             "colorbar": {
              "outlinewidth": 0,
              "ticks": ""
             }
            },
            "type": "scatterpolargl"
           }
          ],
          "scatterternary": [
           {
            "marker": {
             "colorbar": {
              "outlinewidth": 0,
              "ticks": ""
             }
            },
            "type": "scatterternary"
           }
          ],
          "surface": [
           {
            "colorbar": {
             "outlinewidth": 0,
             "ticks": ""
            },
            "colorscale": [
             [
              0,
              "#0d0887"
             ],
             [
              0.1111111111111111,
              "#46039f"
             ],
             [
              0.2222222222222222,
              "#7201a8"
             ],
             [
              0.3333333333333333,
              "#9c179e"
             ],
             [
              0.4444444444444444,
              "#bd3786"
             ],
             [
              0.5555555555555556,
              "#d8576b"
             ],
             [
              0.6666666666666666,
              "#ed7953"
             ],
             [
              0.7777777777777778,
              "#fb9f3a"
             ],
             [
              0.8888888888888888,
              "#fdca26"
             ],
             [
              1,
              "#f0f921"
             ]
            ],
            "type": "surface"
           }
          ],
          "table": [
           {
            "cells": {
             "fill": {
              "color": "#EBF0F8"
             },
             "line": {
              "color": "white"
             }
            },
            "header": {
             "fill": {
              "color": "#C8D4E3"
             },
             "line": {
              "color": "white"
             }
            },
            "type": "table"
           }
          ]
         },
         "layout": {
          "annotationdefaults": {
           "arrowcolor": "#2a3f5f",
           "arrowhead": 0,
           "arrowwidth": 1
          },
          "autotypenumbers": "strict",
          "coloraxis": {
           "colorbar": {
            "outlinewidth": 0,
            "ticks": ""
           }
          },
          "colorscale": {
           "diverging": [
            [
             0,
             "#8e0152"
            ],
            [
             0.1,
             "#c51b7d"
            ],
            [
             0.2,
             "#de77ae"
            ],
            [
             0.3,
             "#f1b6da"
            ],
            [
             0.4,
             "#fde0ef"
            ],
            [
             0.5,
             "#f7f7f7"
            ],
            [
             0.6,
             "#e6f5d0"
            ],
            [
             0.7,
             "#b8e186"
            ],
            [
             0.8,
             "#7fbc41"
            ],
            [
             0.9,
             "#4d9221"
            ],
            [
             1,
             "#276419"
            ]
           ],
           "sequential": [
            [
             0,
             "#0d0887"
            ],
            [
             0.1111111111111111,
             "#46039f"
            ],
            [
             0.2222222222222222,
             "#7201a8"
            ],
            [
             0.3333333333333333,
             "#9c179e"
            ],
            [
             0.4444444444444444,
             "#bd3786"
            ],
            [
             0.5555555555555556,
             "#d8576b"
            ],
            [
             0.6666666666666666,
             "#ed7953"
            ],
            [
             0.7777777777777778,
             "#fb9f3a"
            ],
            [
             0.8888888888888888,
             "#fdca26"
            ],
            [
             1,
             "#f0f921"
            ]
           ],
           "sequentialminus": [
            [
             0,
             "#0d0887"
            ],
            [
             0.1111111111111111,
             "#46039f"
            ],
            [
             0.2222222222222222,
             "#7201a8"
            ],
            [
             0.3333333333333333,
             "#9c179e"
            ],
            [
             0.4444444444444444,
             "#bd3786"
            ],
            [
             0.5555555555555556,
             "#d8576b"
            ],
            [
             0.6666666666666666,
             "#ed7953"
            ],
            [
             0.7777777777777778,
             "#fb9f3a"
            ],
            [
             0.8888888888888888,
             "#fdca26"
            ],
            [
             1,
             "#f0f921"
            ]
           ]
          },
          "colorway": [
           "#636efa",
           "#EF553B",
           "#00cc96",
           "#ab63fa",
           "#FFA15A",
           "#19d3f3",
           "#FF6692",
           "#B6E880",
           "#FF97FF",
           "#FECB52"
          ],
          "font": {
           "color": "#2a3f5f"
          },
          "geo": {
           "bgcolor": "white",
           "lakecolor": "white",
           "landcolor": "#E5ECF6",
           "showlakes": true,
           "showland": true,
           "subunitcolor": "white"
          },
          "hoverlabel": {
           "align": "left"
          },
          "hovermode": "closest",
          "mapbox": {
           "style": "light"
          },
          "paper_bgcolor": "white",
          "plot_bgcolor": "#E5ECF6",
          "polar": {
           "angularaxis": {
            "gridcolor": "white",
            "linecolor": "white",
            "ticks": ""
           },
           "bgcolor": "#E5ECF6",
           "radialaxis": {
            "gridcolor": "white",
            "linecolor": "white",
            "ticks": ""
           }
          },
          "scene": {
           "xaxis": {
            "backgroundcolor": "#E5ECF6",
            "gridcolor": "white",
            "gridwidth": 2,
            "linecolor": "white",
            "showbackground": true,
            "ticks": "",
            "zerolinecolor": "white"
           },
           "yaxis": {
            "backgroundcolor": "#E5ECF6",
            "gridcolor": "white",
            "gridwidth": 2,
            "linecolor": "white",
            "showbackground": true,
            "ticks": "",
            "zerolinecolor": "white"
           },
           "zaxis": {
            "backgroundcolor": "#E5ECF6",
            "gridcolor": "white",
            "gridwidth": 2,
            "linecolor": "white",
            "showbackground": true,
            "ticks": "",
            "zerolinecolor": "white"
           }
          },
          "shapedefaults": {
           "line": {
            "color": "#2a3f5f"
           }
          },
          "ternary": {
           "aaxis": {
            "gridcolor": "white",
            "linecolor": "white",
            "ticks": ""
           },
           "baxis": {
            "gridcolor": "white",
            "linecolor": "white",
            "ticks": ""
           },
           "bgcolor": "#E5ECF6",
           "caxis": {
            "gridcolor": "white",
            "linecolor": "white",
            "ticks": ""
           }
          },
          "title": {
           "x": 0.05
          },
          "xaxis": {
           "automargin": true,
           "gridcolor": "white",
           "linecolor": "white",
           "ticks": "",
           "title": {
            "standoff": 15
           },
           "zerolinecolor": "white",
           "zerolinewidth": 2
          },
          "yaxis": {
           "automargin": true,
           "gridcolor": "white",
           "linecolor": "white",
           "ticks": "",
           "title": {
            "standoff": 15
           },
           "zerolinecolor": "white",
           "zerolinewidth": 2
          }
         }
        },
        "xaxis": {
         "anchor": "y",
         "domain": [
          0,
          1
         ],
         "title": {
          "text": "Life expectancy"
         }
        },
        "yaxis": {
         "anchor": "x",
         "domain": [
          0,
          1
         ]
        }
       }
      }
     },
     "metadata": {},
     "output_type": "display_data"
    }
   ],
   "source": [
    "#nos pide un grafico box\n",
    "px.box(data_frame=df_Europa, x='Life expectancy')\n"
   ]
  },
  {
   "cell_type": "code",
   "execution_count": 12,
   "metadata": {},
   "outputs": [
    {
     "data": {
      "text/plain": [
       "Text(0.5, 1.0, 'Número de países por continente')"
      ]
     },
     "execution_count": 12,
     "metadata": {},
     "output_type": "execute_result"
    },
    {
     "data": {
      "image/png": "[encoded data removed]",
      "text/plain": [
       "<Figure size 640x480 with 1 Axes>"
      ]
     },
     "metadata": {},
     "output_type": "display_data"
    }
   ],
   "source": [
    "#2.2.6. ¿Cual es el continente con mayor número de países? (Countplot)\n",
    "ax = sns.countplot(data= world, x= 'Continent')\n",
    "ax.set_xlabel(\"Continente\")\n",
    "\n",
    "ax.set_ylabel(\"Número de países\")\n",
    "\n",
    "ax.set_title(\"Número de países por continente\", fontsize = 20)\n",
    "# El continente con un mayor numero de países es Asia.\n"
   ]
  },
  {
   "cell_type": "markdown",
   "metadata": {},
   "source": [
    "2.2.7. Estudia la relación entre el porcentaje de desempleados y la tasa bruta de matriculación en educación primaria y terciaria (Scatterplot)"
   ]
  },
  {
   "cell_type": "code",
   "execution_count": 13,
   "metadata": {},
   "outputs": [
    {
     "data": {
      "image/png": "[encoded data removed]",
      "text/plain": [
       "<Figure size 640x480 with 1 Axes>"
      ]
     },
     "metadata": {},
     "output_type": "display_data"
    }
   ],
   "source": [
    "ax = sns.scatterplot(data = world,\n",
    "                     x= 'Unemployment rate',\n",
    "                     y= 'Gross primary education enrollment (%)')"
   ]
  },
  {
   "cell_type": "code",
   "execution_count": 14,
   "metadata": {},
   "outputs": [
    {
     "data": {
      "text/plain": [
       "Text(0.5, 1.0, 'Estudios terciarios en función del desempleo')"
      ]
     },
     "execution_count": 14,
     "metadata": {},
     "output_type": "execute_result"
    },
    {
     "data": {
      "image/png": "[encoded data removed]",
      "text/plain": [
       "<Figure size 2000x500 with 2 Axes>"
      ]
     },
     "metadata": {},
     "output_type": "display_data"
    }
   ],
   "source": [
    "fig, axes = plt.subplots(nrows = 1, ncols = 2, figsize = (20, 5))\n",
    "\n",
    "# Vamos a empezar por la distribución de los estudios primarios\n",
    "sns.scatterplot(x = 'Unemployment rate', y = 'Gross primary education enrollment (%)',ax = axes[0], data = world) # Hay que indicar la posición del gráfico con ax = axes[posición]\n",
    "# ahora la distribucion de los estudios terciarios\n",
    "sns.scatterplot(x = 'Unemployment rate', y = 'Gross tertiary education enrollment (%)',ax = axes[1], data = world)\n",
    "\n",
    "axes[0].set_xlabel(\"Porcentaje de desempleo\")# Además hay que indicar a qué gráfico corresponde cada uno de los ejes y los títulos de gráficos.\n",
    "\n",
    "axes[0].set_ylabel(\"Tasa de matriculación en educación primaria\")\n",
    "\n",
    "axes[0].set_title(\"Estudios primarios en función del desempleo\", fontsize = 20)\n",
    "# Podemos ver que para una tasa de matriculación de alrededor de 100 el porcentaje de desempleo está principalmente entre el 0 y el 10\n",
    "\n",
    "axes[1].set_xlabel(\"Porcentaje de desempleo\")\n",
    "\n",
    "axes[1].set_ylabel(\"Tasa de matriculación en educación terciaria\")\n",
    "\n",
    "axes[1].set_title(\"Estudios terciarios en función del desempleo\", fontsize = 20)\n"
   ]
  },
  {
   "cell_type": "markdown",
   "metadata": {},
   "source": [
    "2.2.8. Estudia la distribucíon del gasto en salud del ciudadano en América. Indica la mediana y la densidad.(Violinplot)"
   ]
  },
  {
   "cell_type": "code",
   "execution_count": 15,
   "metadata": {},
   "outputs": [
    {
     "data": {
      "text/html": [
       "<div>\n",
       "<style scoped>\n",
       "    .dataframe tbody tr th:only-of-type {\n",
       "        vertical-align: middle;\n",
       "    }\n",
       "\n",
       "    .dataframe tbody tr th {\n",
       "        vertical-align: top;\n",
       "    }\n",
       "\n",
       "    .dataframe thead th {\n",
       "        text-align: right;\n",
       "    }\n",
       "</style>\n",
       "<table border=\"1\" class=\"dataframe\">\n",
       "  <thead>\n",
       "    <tr style=\"text-align: right;\">\n",
       "      <th></th>\n",
       "      <th>count</th>\n",
       "      <th>mean</th>\n",
       "      <th>std</th>\n",
       "      <th>min</th>\n",
       "      <th>25%</th>\n",
       "      <th>50%</th>\n",
       "      <th>75%</th>\n",
       "      <th>max</th>\n",
       "    </tr>\n",
       "  </thead>\n",
       "  <tbody>\n",
       "    <tr>\n",
       "      <th>Density\\n(P/Km2)</th>\n",
       "      <td>36.0</td>\n",
       "      <td>1.330556e+02</td>\n",
       "      <td>1.477034e+02</td>\n",
       "      <td>4.000000e+00</td>\n",
       "      <td>2.575000e+01</td>\n",
       "      <td>6.850000e+01</td>\n",
       "      <td>2.235000e+02</td>\n",
       "      <td>6.680000e+02</td>\n",
       "    </tr>\n",
       "    <tr>\n",
       "      <th>Agricultural Land( %)</th>\n",
       "      <td>36.0</td>\n",
       "      <td>3.318889e+01</td>\n",
       "      <td>2.006838e+01</td>\n",
       "      <td>6.000000e-01</td>\n",
       "      <td>2.102500e+01</td>\n",
       "      <td>3.185000e+01</td>\n",
       "      <td>4.267500e+01</td>\n",
       "      <td>8.260000e+01</td>\n",
       "    </tr>\n",
       "    <tr>\n",
       "      <th>Birth Rate</th>\n",
       "      <td>36.0</td>\n",
       "      <td>1.680000e+01</td>\n",
       "      <td>4.371956e+00</td>\n",
       "      <td>1.010000e+01</td>\n",
       "      <td>1.363000e+01</td>\n",
       "      <td>1.674500e+01</td>\n",
       "      <td>1.978250e+01</td>\n",
       "      <td>2.789000e+01</td>\n",
       "    </tr>\n",
       "    <tr>\n",
       "      <th>Calling Code</th>\n",
       "      <td>36.0</td>\n",
       "      <td>2.948056e+02</td>\n",
       "      <td>3.795362e+02</td>\n",
       "      <td>1.000000e+00</td>\n",
       "      <td>1.000000e+00</td>\n",
       "      <td>5.650000e+01</td>\n",
       "      <td>5.075000e+02</td>\n",
       "      <td>1.876000e+03</td>\n",
       "    </tr>\n",
       "    <tr>\n",
       "      <th>CPI Change (%)</th>\n",
       "      <td>35.0</td>\n",
       "      <td>1.192000e+01</td>\n",
       "      <td>4.332329e+01</td>\n",
       "      <td>-1.000000e+00</td>\n",
       "      <td>1.100000e+00</td>\n",
       "      <td>2.300000e+00</td>\n",
       "      <td>4.000000e+00</td>\n",
       "      <td>2.549000e+02</td>\n",
       "    </tr>\n",
       "    <tr>\n",
       "      <th>Fertility Rate</th>\n",
       "      <td>36.0</td>\n",
       "      <td>2.139167e+00</td>\n",
       "      <td>4.509062e-01</td>\n",
       "      <td>1.440000e+00</td>\n",
       "      <td>1.750000e+00</td>\n",
       "      <td>2.085000e+00</td>\n",
       "      <td>2.422500e+00</td>\n",
       "      <td>3.570000e+00</td>\n",
       "    </tr>\n",
       "    <tr>\n",
       "      <th>Forested Area (%)</th>\n",
       "      <td>36.0</td>\n",
       "      <td>4.137500e+01</td>\n",
       "      <td>2.083256e+01</td>\n",
       "      <td>3.500000e+00</td>\n",
       "      <td>2.965000e+01</td>\n",
       "      <td>4.085000e+01</td>\n",
       "      <td>5.317500e+01</td>\n",
       "      <td>9.830000e+01</td>\n",
       "    </tr>\n",
       "    <tr>\n",
       "      <th>Gasoline Price</th>\n",
       "      <td>32.0</td>\n",
       "      <td>9.546875e-01</td>\n",
       "      <td>3.203424e-01</td>\n",
       "      <td>0.000000e+00</td>\n",
       "      <td>7.775000e-01</td>\n",
       "      <td>9.800000e-01</td>\n",
       "      <td>1.102500e+00</td>\n",
       "      <td>1.810000e+00</td>\n",
       "    </tr>\n",
       "    <tr>\n",
       "      <th>GDP</th>\n",
       "      <td>36.0</td>\n",
       "      <td>8.003766e+11</td>\n",
       "      <td>3.564873e+12</td>\n",
       "      <td>1.946472e+08</td>\n",
       "      <td>4.206645e+09</td>\n",
       "      <td>3.258396e+10</td>\n",
       "      <td>1.372888e+11</td>\n",
       "      <td>2.142770e+13</td>\n",
       "    </tr>\n",
       "    <tr>\n",
       "      <th>Gross primary education enrollment (%)</th>\n",
       "      <td>36.0</td>\n",
       "      <td>1.042944e+02</td>\n",
       "      <td>8.057506e+00</td>\n",
       "      <td>8.140000e+01</td>\n",
       "      <td>1.005250e+02</td>\n",
       "      <td>1.047000e+02</td>\n",
       "      <td>1.090250e+02</td>\n",
       "      <td>1.206000e+02</td>\n",
       "    </tr>\n",
       "    <tr>\n",
       "      <th>Gross tertiary education enrollment (%)</th>\n",
       "      <td>34.0</td>\n",
       "      <td>4.425882e+01</td>\n",
       "      <td>2.848811e+01</td>\n",
       "      <td>1.100000e+00</td>\n",
       "      <td>2.227500e+01</td>\n",
       "      <td>4.080000e+01</td>\n",
       "      <td>6.482500e+01</td>\n",
       "      <td>1.046000e+02</td>\n",
       "    </tr>\n",
       "    <tr>\n",
       "      <th>Infant mortality</th>\n",
       "      <td>36.0</td>\n",
       "      <td>1.521111e+01</td>\n",
       "      <td>9.824336e+00</td>\n",
       "      <td>3.700000e+00</td>\n",
       "      <td>9.550000e+00</td>\n",
       "      <td>1.260000e+01</td>\n",
       "      <td>1.697500e+01</td>\n",
       "      <td>4.950000e+01</td>\n",
       "    </tr>\n",
       "    <tr>\n",
       "      <th>Life expectancy</th>\n",
       "      <td>36.0</td>\n",
       "      <td>7.485833e+01</td>\n",
       "      <td>3.605185e+00</td>\n",
       "      <td>6.370000e+01</td>\n",
       "      <td>7.292500e+01</td>\n",
       "      <td>7.475000e+01</td>\n",
       "      <td>7.695000e+01</td>\n",
       "      <td>8.190000e+01</td>\n",
       "    </tr>\n",
       "    <tr>\n",
       "      <th>Maternal mortality ratio</th>\n",
       "      <td>34.0</td>\n",
       "      <td>8.050000e+01</td>\n",
       "      <td>8.169984e+01</td>\n",
       "      <td>1.000000e+01</td>\n",
       "      <td>3.600000e+01</td>\n",
       "      <td>6.600000e+01</td>\n",
       "      <td>9.500000e+01</td>\n",
       "      <td>4.800000e+02</td>\n",
       "    </tr>\n",
       "    <tr>\n",
       "      <th>Minimum wage</th>\n",
       "      <td>32.0</td>\n",
       "      <td>2.031250e+00</td>\n",
       "      <td>2.022446e+00</td>\n",
       "      <td>1.000000e-02</td>\n",
       "      <td>1.002500e+00</td>\n",
       "      <td>1.530000e+00</td>\n",
       "      <td>2.302500e+00</td>\n",
       "      <td>9.510000e+00</td>\n",
       "    </tr>\n",
       "    <tr>\n",
       "      <th>Out of pocket health expenditure</th>\n",
       "      <td>35.0</td>\n",
       "      <td>3.162571e+01</td>\n",
       "      <td>1.398441e+01</td>\n",
       "      <td>2.000000e-01</td>\n",
       "      <td>2.210000e+01</td>\n",
       "      <td>3.050000e+01</td>\n",
       "      <td>4.255000e+01</td>\n",
       "      <td>5.700000e+01</td>\n",
       "    </tr>\n",
       "    <tr>\n",
       "      <th>Physicians per thousand</th>\n",
       "      <td>36.0</td>\n",
       "      <td>1.996667e+00</td>\n",
       "      <td>1.559082e+00</td>\n",
       "      <td>2.000000e-01</td>\n",
       "      <td>1.110000e+00</td>\n",
       "      <td>1.580000e+00</td>\n",
       "      <td>2.537500e+00</td>\n",
       "      <td>8.420000e+00</td>\n",
       "    </tr>\n",
       "    <tr>\n",
       "      <th>Population</th>\n",
       "      <td>36.0</td>\n",
       "      <td>2.799839e+07</td>\n",
       "      <td>6.548938e+07</td>\n",
       "      <td>5.282300e+04</td>\n",
       "      <td>3.901352e+05</td>\n",
       "      <td>6.499528e+06</td>\n",
       "      <td>1.776826e+07</td>\n",
       "      <td>3.282395e+08</td>\n",
       "    </tr>\n",
       "    <tr>\n",
       "      <th>Population: Labor force participation (%)</th>\n",
       "      <td>31.0</td>\n",
       "      <td>6.449032e+01</td>\n",
       "      <td>5.618087e+00</td>\n",
       "      <td>5.110000e+01</td>\n",
       "      <td>6.165000e+01</td>\n",
       "      <td>6.510000e+01</td>\n",
       "      <td>6.715000e+01</td>\n",
       "      <td>7.760000e+01</td>\n",
       "    </tr>\n",
       "    <tr>\n",
       "      <th>Tax revenue (%)</th>\n",
       "      <td>30.0</td>\n",
       "      <td>1.728333e+01</td>\n",
       "      <td>5.010065e+00</td>\n",
       "      <td>9.600000e+00</td>\n",
       "      <td>1.375000e+01</td>\n",
       "      <td>1.715000e+01</td>\n",
       "      <td>1.950000e+01</td>\n",
       "      <td>2.750000e+01</td>\n",
       "    </tr>\n",
       "    <tr>\n",
       "      <th>Total tax rate</th>\n",
       "      <td>35.0</td>\n",
       "      <td>4.480571e+01</td>\n",
       "      <td>1.748007e+01</td>\n",
       "      <td>2.450000e+01</td>\n",
       "      <td>3.455000e+01</td>\n",
       "      <td>3.700000e+01</td>\n",
       "      <td>4.925000e+01</td>\n",
       "      <td>1.063000e+02</td>\n",
       "    </tr>\n",
       "    <tr>\n",
       "      <th>Unemployment rate</th>\n",
       "      <td>31.0</td>\n",
       "      <td>7.994839e+00</td>\n",
       "      <td>4.712777e+00</td>\n",
       "      <td>1.640000e+00</td>\n",
       "      <td>4.040000e+00</td>\n",
       "      <td>7.090000e+00</td>\n",
       "      <td>1.034500e+01</td>\n",
       "      <td>2.071000e+01</td>\n",
       "    </tr>\n",
       "    <tr>\n",
       "      <th>latitude</th>\n",
       "      <td>36.0</td>\n",
       "      <td>7.641260e+00</td>\n",
       "      <td>1.931280e+01</td>\n",
       "      <td>-3.841610e+01</td>\n",
       "      <td>3.398703e+00</td>\n",
       "      <td>1.292486e+01</td>\n",
       "      <td>1.723186e+01</td>\n",
       "      <td>5.613037e+01</td>\n",
       "    </tr>\n",
       "    <tr>\n",
       "      <th>longitude</th>\n",
       "      <td>36.0</td>\n",
       "      <td>-7.514194e+01</td>\n",
       "      <td>1.971322e+01</td>\n",
       "      <td>-1.573768e+02</td>\n",
       "      <td>-8.411688e+01</td>\n",
       "      <td>-7.191409e+01</td>\n",
       "      <td>-6.135004e+01</td>\n",
       "      <td>-5.192528e+01</td>\n",
       "    </tr>\n",
       "  </tbody>\n",
       "</table>\n",
       "</div>"
      ],
      "text/plain": [
       "                                           count          mean           std  \\\n",
       "Density\\n(P/Km2)                            36.0  1.330556e+02  1.477034e+02   \n",
       "Agricultural Land( %)                       36.0  3.318889e+01  2.006838e+01   \n",
       "Birth Rate                                  36.0  1.680000e+01  4.371956e+00   \n",
       "Calling Code                                36.0  2.948056e+02  3.795362e+02   \n",
       "CPI Change (%)                              35.0  1.192000e+01  4.332329e+01   \n",
       "Fertility Rate                              36.0  2.139167e+00  4.509062e-01   \n",
       "Forested Area (%)                           36.0  4.137500e+01  2.083256e+01   \n",
       "Gasoline Price                              32.0  9.546875e-01  3.203424e-01   \n",
       "GDP                                         36.0  8.003766e+11  3.564873e+12   \n",
       "Gross primary education enrollment (%)      36.0  1.042944e+02  8.057506e+00   \n",
       "Gross tertiary education enrollment (%)     34.0  4.425882e+01  2.848811e+01   \n",
       "Infant mortality                            36.0  1.521111e+01  9.824336e+00   \n",
       "Life expectancy                             36.0  7.485833e+01  3.605185e+00   \n",
       "Maternal mortality ratio                    34.0  8.050000e+01  8.169984e+01   \n",
       "Minimum wage                                32.0  2.031250e+00  2.022446e+00   \n",
       "Out of pocket health expenditure            35.0  3.162571e+01  1.398441e+01   \n",
       "Physicians per thousand                     36.0  1.996667e+00  1.559082e+00   \n",
       "Population                                  36.0  2.799839e+07  6.548938e+07   \n",
       "Population: Labor force participation (%)   31.0  6.449032e+01  5.618087e+00   \n",
       "Tax revenue (%)                             30.0  1.728333e+01  5.010065e+00   \n",
       "Total tax rate                              35.0  4.480571e+01  1.748007e+01   \n",
       "Unemployment rate                           31.0  7.994839e+00  4.712777e+00   \n",
       "latitude                                    36.0  7.641260e+00  1.931280e+01   \n",
       "longitude                                   36.0 -7.514194e+01  1.971322e+01   \n",
       "\n",
       "                                                    min           25%  \\\n",
       "Density\\n(P/Km2)                           4.000000e+00  2.575000e+01   \n",
       "Agricultural Land( %)                      6.000000e-01  2.102500e+01   \n",
       "Birth Rate                                 1.010000e+01  1.363000e+01   \n",
       "Calling Code                               1.000000e+00  1.000000e+00   \n",
       "CPI Change (%)                            -1.000000e+00  1.100000e+00   \n",
       "Fertility Rate                             1.440000e+00  1.750000e+00   \n",
       "Forested Area (%)                          3.500000e+00  2.965000e+01   \n",
       "Gasoline Price                             0.000000e+00  7.775000e-01   \n",
       "GDP                                        1.946472e+08  4.206645e+09   \n",
       "Gross primary education enrollment (%)     8.140000e+01  1.005250e+02   \n",
       "Gross tertiary education enrollment (%)    1.100000e+00  2.227500e+01   \n",
       "Infant mortality                           3.700000e+00  9.550000e+00   \n",
       "Life expectancy                            6.370000e+01  7.292500e+01   \n",
       "Maternal mortality ratio                   1.000000e+01  3.600000e+01   \n",
       "Minimum wage                               1.000000e-02  1.002500e+00   \n",
       "Out of pocket health expenditure           2.000000e-01  2.210000e+01   \n",
       "Physicians per thousand                    2.000000e-01  1.110000e+00   \n",
       "Population                                 5.282300e+04  3.901352e+05   \n",
       "Population: Labor force participation (%)  5.110000e+01  6.165000e+01   \n",
       "Tax revenue (%)                            9.600000e+00  1.375000e+01   \n",
       "Total tax rate                             2.450000e+01  3.455000e+01   \n",
       "Unemployment rate                          1.640000e+00  4.040000e+00   \n",
       "latitude                                  -3.841610e+01  3.398703e+00   \n",
       "longitude                                 -1.573768e+02 -8.411688e+01   \n",
       "\n",
       "                                                    50%           75%  \\\n",
       "Density\\n(P/Km2)                           6.850000e+01  2.235000e+02   \n",
       "Agricultural Land( %)                      3.185000e+01  4.267500e+01   \n",
       "Birth Rate                                 1.674500e+01  1.978250e+01   \n",
       "Calling Code                               5.650000e+01  5.075000e+02   \n",
       "CPI Change (%)                             2.300000e+00  4.000000e+00   \n",
       "Fertility Rate                             2.085000e+00  2.422500e+00   \n",
       "Forested Area (%)                          4.085000e+01  5.317500e+01   \n",
       "Gasoline Price                             9.800000e-01  1.102500e+00   \n",
       "GDP                                        3.258396e+10  1.372888e+11   \n",
       "Gross primary education enrollment (%)     1.047000e+02  1.090250e+02   \n",
       "Gross tertiary education enrollment (%)    4.080000e+01  6.482500e+01   \n",
       "Infant mortality                           1.260000e+01  1.697500e+01   \n",
       "Life expectancy                            7.475000e+01  7.695000e+01   \n",
       "Maternal mortality ratio                   6.600000e+01  9.500000e+01   \n",
       "Minimum wage                               1.530000e+00  2.302500e+00   \n",
       "Out of pocket health expenditure           3.050000e+01  4.255000e+01   \n",
       "Physicians per thousand                    1.580000e+00  2.537500e+00   \n",
       "Population                                 6.499528e+06  1.776826e+07   \n",
       "Population: Labor force participation (%)  6.510000e+01  6.715000e+01   \n",
       "Tax revenue (%)                            1.715000e+01  1.950000e+01   \n",
       "Total tax rate                             3.700000e+01  4.925000e+01   \n",
       "Unemployment rate                          7.090000e+00  1.034500e+01   \n",
       "latitude                                   1.292486e+01  1.723186e+01   \n",
       "longitude                                 -7.191409e+01 -6.135004e+01   \n",
       "\n",
       "                                                    max  \n",
       "Density\\n(P/Km2)                           6.680000e+02  \n",
       "Agricultural Land( %)                      8.260000e+01  \n",
       "Birth Rate                                 2.789000e+01  \n",
       "Calling Code                               1.876000e+03  \n",
       "CPI Change (%)                             2.549000e+02  \n",
       "Fertility Rate                             3.570000e+00  \n",
       "Forested Area (%)                          9.830000e+01  \n",
       "Gasoline Price                             1.810000e+00  \n",
       "GDP                                        2.142770e+13  \n",
       "Gross primary education enrollment (%)     1.206000e+02  \n",
       "Gross tertiary education enrollment (%)    1.046000e+02  \n",
       "Infant mortality                           4.950000e+01  \n",
       "Life expectancy                            8.190000e+01  \n",
       "Maternal mortality ratio                   4.800000e+02  \n",
       "Minimum wage                               9.510000e+00  \n",
       "Out of pocket health expenditure           5.700000e+01  \n",
       "Physicians per thousand                    8.420000e+00  \n",
       "Population                                 3.282395e+08  \n",
       "Population: Labor force participation (%)  7.760000e+01  \n",
       "Tax revenue (%)                            2.750000e+01  \n",
       "Total tax rate                             1.063000e+02  \n",
       "Unemployment rate                          2.071000e+01  \n",
       "latitude                                   5.613037e+01  \n",
       "longitude                                 -5.192528e+01  "
      ]
     },
     "execution_count": 15,
     "metadata": {},
     "output_type": "execute_result"
    }
   ],
   "source": [
    "df_America = world[world['Continent']== 'America']\n",
    "df_America.describe().T"
   ]
  },
  {
   "cell_type": "code",
   "execution_count": 16,
   "metadata": {},
   "outputs": [
    {
     "data": {
      "application/vnd.plotly.v1+json": {
       "config": {
        "plotlyServerURL": "https://plot.ly"
       },
       "data": [
        {
         "alignmentgroup": "True",
         "box": {
          "visible": true
         },
         "hovertemplate": "% del gasto total en salud pagado por el ciudadano=%{y}<extra></extra>",
         "legendgroup": "",
         "marker": {
          "color": "#636efa"
         },
         "name": "",
         "offsetgroup": "",
         "orientation": "v",
         "scalegroup": "True",
         "showlegend": false,
         "type": "violin",
         "x0": " ",
         "xaxis": "x",
         "y": [
          24.3,
          17.6,
          27.8,
          45.2,
          22.7,
          25.9,
          28.3,
          14.6,
          32.2,
          18.3,
          21.5,
          null,
          28.4,
          43.7,
          43.7,
          27.9,
          57,
          55.8,
          40.5,
          36.3,
          49.1,
          23.7,
          0.2,
          41.4,
          36,
          30.5,
          36.5,
          30.9,
          56.6,
          48.4,
          21.4,
          10.1,
          37.3,
          11.1,
          16.2,
          45.8
         ],
         "y0": " ",
         "yaxis": "y"
        }
       ],
       "layout": {
        "legend": {
         "tracegroupgap": 0
        },
        "margin": {
         "t": 60
        },
        "template": {
         "data": {
          "bar": [
           {
            "error_x": {
             "color": "#2a3f5f"
            },
            "error_y": {
             "color": "#2a3f5f"
            },
            "marker": {
             "line": {
              "color": "#E5ECF6",
              "width": 0.5
             },
             "pattern": {
              "fillmode": "overlay",
              "size": 10,
              "solidity": 0.2
             }
            },
            "type": "bar"
           }
          ],
          "barpolar": [
           {
            "marker": {
             "line": {
              "color": "#E5ECF6",
              "width": 0.5
             },
             "pattern": {
              "fillmode": "overlay",
              "size": 10,
              "solidity": 0.2
             }
            },
            "type": "barpolar"
           }
          ],
          "carpet": [
           {
            "aaxis": {
             "endlinecolor": "#2a3f5f",
             "gridcolor": "white",
             "linecolor": "white",
             "minorgridcolor": "white",
             "startlinecolor": "#2a3f5f"
            },
            "baxis": {
             "endlinecolor": "#2a3f5f",
             "gridcolor": "white",
             "linecolor": "white",
             "minorgridcolor": "white",
             "startlinecolor": "#2a3f5f"
            },
            "type": "carpet"
           }
          ],
          "choropleth": [
           {
            "colorbar": {
             "outlinewidth": 0,
             "ticks": ""
            },
            "type": "choropleth"
           }
          ],
          "contour": [
           {
            "colorbar": {
             "outlinewidth": 0,
             "ticks": ""
            },
            "colorscale": [
             [
              0,
              "#0d0887"
             ],
             [
              0.1111111111111111,
              "#46039f"
             ],
             [
              0.2222222222222222,
              "#7201a8"
             ],
             [
              0.3333333333333333,
              "#9c179e"
             ],
             [
              0.4444444444444444,
              "#bd3786"
             ],
             [
              0.5555555555555556,
              "#d8576b"
             ],
             [
              0.6666666666666666,
              "#ed7953"
             ],
             [
              0.7777777777777778,
              "#fb9f3a"
             ],
             [
              0.8888888888888888,
              "#fdca26"
             ],
             [
              1,
              "#f0f921"
             ]
            ],
            "type": "contour"
           }
          ],
          "contourcarpet": [
           {
            "colorbar": {
             "outlinewidth": 0,
             "ticks": ""
            },
            "type": "contourcarpet"
           }
          ],
          "heatmap": [
           {
            "colorbar": {
             "outlinewidth": 0,
             "ticks": ""
            },
            "colorscale": [
             [
              0,
              "#0d0887"
             ],
             [
              0.1111111111111111,
              "#46039f"
             ],
             [
              0.2222222222222222,
              "#7201a8"
             ],
             [
              0.3333333333333333,
              "#9c179e"
             ],
             [
              0.4444444444444444,
              "#bd3786"
             ],
             [
              0.5555555555555556,
              "#d8576b"
             ],
             [
              0.6666666666666666,
              "#ed7953"
             ],
             [
              0.7777777777777778,
              "#fb9f3a"
             ],
             [
              0.8888888888888888,
              "#fdca26"
             ],
             [
              1,
              "#f0f921"
             ]
            ],
            "type": "heatmap"
           }
          ],
          "heatmapgl": [
           {
            "colorbar": {
             "outlinewidth": 0,
             "ticks": ""
            },
            "colorscale": [
             [
              0,
              "#0d0887"
             ],
             [
              0.1111111111111111,
              "#46039f"
             ],
             [
              0.2222222222222222,
              "#7201a8"
             ],
             [
              0.3333333333333333,
              "#9c179e"
             ],
             [
              0.4444444444444444,
              "#bd3786"
             ],
             [
              0.5555555555555556,
              "#d8576b"
             ],
             [
              0.6666666666666666,
              "#ed7953"
             ],
             [
              0.7777777777777778,
              "#fb9f3a"
             ],
             [
              0.8888888888888888,
              "#fdca26"
             ],
             [
              1,
              "#f0f921"
             ]
            ],
            "type": "heatmapgl"
           }
          ],
          "histogram": [
           {
            "marker": {
             "pattern": {
              "fillmode": "overlay",
              "size": 10,
              "solidity": 0.2
             }
            },
            "type": "histogram"
           }
          ],
          "histogram2d": [
           {
            "colorbar": {
             "outlinewidth": 0,
             "ticks": ""
            },
            "colorscale": [
             [
              0,
              "#0d0887"
             ],
             [
              0.1111111111111111,
              "#46039f"
             ],
             [
              0.2222222222222222,
              "#7201a8"
             ],
             [
              0.3333333333333333,
              "#9c179e"
             ],
             [
              0.4444444444444444,
              "#bd3786"
             ],
             [
              0.5555555555555556,
              "#d8576b"
             ],
             [
              0.6666666666666666,
              "#ed7953"
             ],
             [
              0.7777777777777778,
              "#fb9f3a"
             ],
             [
              0.8888888888888888,
              "#fdca26"
             ],
             [
              1,
              "#f0f921"
             ]
            ],
            "type": "histogram2d"
           }
          ],
          "histogram2dcontour": [
           {
            "colorbar": {
             "outlinewidth": 0,
             "ticks": ""
            },
            "colorscale": [
             [
              0,
              "#0d0887"
             ],
             [
              0.1111111111111111,
              "#46039f"
             ],
             [
              0.2222222222222222,
              "#7201a8"
             ],
             [
              0.3333333333333333,
              "#9c179e"
             ],
             [
              0.4444444444444444,
              "#bd3786"
             ],
             [
              0.5555555555555556,
              "#d8576b"
             ],
             [
              0.6666666666666666,
              "#ed7953"
             ],
             [
              0.7777777777777778,
              "#fb9f3a"
             ],
             [
              0.8888888888888888,
              "#fdca26"
             ],
             [
              1,
              "#f0f921"
             ]
            ],
            "type": "histogram2dcontour"
           }
          ],
          "mesh3d": [
           {
            "colorbar": {
             "outlinewidth": 0,
             "ticks": ""
            },
            "type": "mesh3d"
           }
          ],
          "parcoords": [
           {
            "line": {
             "colorbar": {
              "outlinewidth": 0,
              "ticks": ""
             }
            },
            "type": "parcoords"
           }
          ],
          "pie": [
           {
            "automargin": true,
            "type": "pie"
           }
          ],
          "scatter": [
           {
            "fillpattern": {
             "fillmode": "overlay",
             "size": 10,
             "solidity": 0.2
            },
            "type": "scatter"
           }
          ],
          "scatter3d": [
           {
            "line": {
             "colorbar": {
              "outlinewidth": 0,
              "ticks": ""
             }
            },
            "marker": {
             "colorbar": {
              "outlinewidth": 0,
              "ticks": ""
             }
            },
            "type": "scatter3d"
           }
          ],
          "scattercarpet": [
           {
            "marker": {
             "colorbar": {
              "outlinewidth": 0,
              "ticks": ""
             }
            },
            "type": "scattercarpet"
           }
          ],
          "scattergeo": [
           {
            "marker": {
             "colorbar": {
              "outlinewidth": 0,
              "ticks": ""
             }
            },
            "type": "scattergeo"
           }
          ],
          "scattergl": [
           {
            "marker": {
             "colorbar": {
              "outlinewidth": 0,
              "ticks": ""
             }
            },
            "type": "scattergl"
           }
          ],
          "scattermapbox": [
           {
            "marker": {
             "colorbar": {
              "outlinewidth": 0,
              "ticks": ""
             }
            },
            "type": "scattermapbox"
           }
          ],
          "scatterpolar": [
           {
            "marker": {
             "colorbar": {
              "outlinewidth": 0,
              "ticks": ""
             }
            },
            "type": "scatterpolar"
           }
          ],
          "scatterpolargl": [
           {
            "marker": {
             "colorbar": {
              "outlinewidth": 0,
              "ticks": ""
             }
            },
            "type": "scatterpolargl"
           }
          ],
          "scatterternary": [
           {
            "marker": {
             "colorbar": {
              "outlinewidth": 0,
              "ticks": ""
             }
            },
            "type": "scatterternary"
           }
          ],
          "surface": [
           {
            "colorbar": {
             "outlinewidth": 0,
             "ticks": ""
            },
            "colorscale": [
             [
              0,
              "#0d0887"
             ],
             [
              0.1111111111111111,
              "#46039f"
             ],
             [
              0.2222222222222222,
              "#7201a8"
             ],
             [
              0.3333333333333333,
              "#9c179e"
             ],
             [
              0.4444444444444444,
              "#bd3786"
             ],
             [
              0.5555555555555556,
              "#d8576b"
             ],
             [
              0.6666666666666666,
              "#ed7953"
             ],
             [
              0.7777777777777778,
              "#fb9f3a"
             ],
             [
              0.8888888888888888,
              "#fdca26"
             ],
             [
              1,
              "#f0f921"
             ]
            ],
            "type": "surface"
           }
          ],
          "table": [
           {
            "cells": {
             "fill": {
              "color": "#EBF0F8"
             },
             "line": {
              "color": "white"
             }
            },
            "header": {
             "fill": {
              "color": "#C8D4E3"
             },
             "line": {
              "color": "white"
             }
            },
            "type": "table"
           }
          ]
         },
         "layout": {
          "annotationdefaults": {
           "arrowcolor": "#2a3f5f",
           "arrowhead": 0,
           "arrowwidth": 1
          },
          "autotypenumbers": "strict",
          "coloraxis": {
           "colorbar": {
            "outlinewidth": 0,
            "ticks": ""
           }
          },
          "colorscale": {
           "diverging": [
            [
             0,
             "#8e0152"
            ],
            [
             0.1,
             "#c51b7d"
            ],
            [
             0.2,
             "#de77ae"
            ],
            [
             0.3,
             "#f1b6da"
            ],
            [
             0.4,
             "#fde0ef"
            ],
            [
             0.5,
             "#f7f7f7"
            ],
            [
             0.6,
             "#e6f5d0"
            ],
            [
             0.7,
             "#b8e186"
            ],
            [
             0.8,
             "#7fbc41"
            ],
            [
             0.9,
             "#4d9221"
            ],
            [
             1,
             "#276419"
            ]
           ],
           "sequential": [
            [
             0,
             "#0d0887"
            ],
            [
             0.1111111111111111,
             "#46039f"
            ],
            [
             0.2222222222222222,
             "#7201a8"
            ],
            [
             0.3333333333333333,
             "#9c179e"
            ],
            [
             0.4444444444444444,
             "#bd3786"
            ],
            [
             0.5555555555555556,
             "#d8576b"
            ],
            [
             0.6666666666666666,
             "#ed7953"
            ],
            [
             0.7777777777777778,
             "#fb9f3a"
            ],
            [
             0.8888888888888888,
             "#fdca26"
            ],
            [
             1,
             "#f0f921"
            ]
           ],
           "sequentialminus": [
            [
             0,
             "#0d0887"
            ],
            [
             0.1111111111111111,
             "#46039f"
            ],
            [
             0.2222222222222222,
             "#7201a8"
            ],
            [
             0.3333333333333333,
             "#9c179e"
            ],
            [
             0.4444444444444444,
             "#bd3786"
            ],
            [
             0.5555555555555556,
             "#d8576b"
            ],
            [
             0.6666666666666666,
             "#ed7953"
            ],
            [
             0.7777777777777778,
             "#fb9f3a"
            ],
            [
             0.8888888888888888,
             "#fdca26"
            ],
            [
             1,
             "#f0f921"
            ]
           ]
          },
          "colorway": [
           "#636efa",
           "#EF553B",
           "#00cc96",
           "#ab63fa",
           "#FFA15A",
           "#19d3f3",
           "#FF6692",
           "#B6E880",
           "#FF97FF",
           "#FECB52"
          ],
          "font": {
           "color": "#2a3f5f"
          },
          "geo": {
           "bgcolor": "white",
           "lakecolor": "white",
           "landcolor": "#E5ECF6",
           "showlakes": true,
           "showland": true,
           "subunitcolor": "white"
          },
          "hoverlabel": {
           "align": "left"
          },
          "hovermode": "closest",
          "mapbox": {
           "style": "light"
          },
          "paper_bgcolor": "white",
          "plot_bgcolor": "#E5ECF6",
          "polar": {
           "angularaxis": {
            "gridcolor": "white",
            "linecolor": "white",
            "ticks": ""
           },
           "bgcolor": "#E5ECF6",
           "radialaxis": {
            "gridcolor": "white",
            "linecolor": "white",
            "ticks": ""
           }
          },
          "scene": {
           "xaxis": {
            "backgroundcolor": "#E5ECF6",
            "gridcolor": "white",
            "gridwidth": 2,
            "linecolor": "white",
            "showbackground": true,
            "ticks": "",
            "zerolinecolor": "white"
           },
           "yaxis": {
            "backgroundcolor": "#E5ECF6",
            "gridcolor": "white",
            "gridwidth": 2,
            "linecolor": "white",
            "showbackground": true,
            "ticks": "",
            "zerolinecolor": "white"
           },
           "zaxis": {
            "backgroundcolor": "#E5ECF6",
            "gridcolor": "white",
            "gridwidth": 2,
            "linecolor": "white",
            "showbackground": true,
            "ticks": "",
            "zerolinecolor": "white"
           }
          },
          "shapedefaults": {
           "line": {
            "color": "#2a3f5f"
           }
          },
          "ternary": {
           "aaxis": {
            "gridcolor": "white",
            "linecolor": "white",
            "ticks": ""
           },
           "baxis": {
            "gridcolor": "white",
            "linecolor": "white",
            "ticks": ""
           },
           "bgcolor": "#E5ECF6",
           "caxis": {
            "gridcolor": "white",
            "linecolor": "white",
            "ticks": ""
           }
          },
          "title": {
           "x": 0.05
          },
          "xaxis": {
           "automargin": true,
           "gridcolor": "white",
           "linecolor": "white",
           "ticks": "",
           "title": {
            "standoff": 15
           },
           "zerolinecolor": "white",
           "zerolinewidth": 2
          },
          "yaxis": {
           "automargin": true,
           "gridcolor": "white",
           "linecolor": "white",
           "ticks": "",
           "title": {
            "standoff": 15
           },
           "zerolinecolor": "white",
           "zerolinewidth": 2
          }
         }
        },
        "violinmode": "group",
        "xaxis": {
         "anchor": "y",
         "domain": [
          0,
          1
         ]
        },
        "yaxis": {
         "anchor": "x",
         "domain": [
          0,
          1
         ],
         "title": {
          "text": "% del gasto total en salud pagado por el ciudadano"
         }
        }
       }
      }
     },
     "metadata": {},
     "output_type": "display_data"
    }
   ],
   "source": [
    "px.violin(data_frame = df_America, y = 'Out of pocket health expenditure', box = True, labels = {'Out of pocket health expenditure':'% del gasto total en salud pagado por el ciudadano'})\n"
   ]
  }
 ],
 "metadata": {
  "kernelspec": {
   "display_name": "Python 3",
   "language": "python",
   "name": "python3"
  },
  "language_info": {
   "codemirror_mode": {
    "name": "ipython",
    "version": 3
   },
   "file_extension": ".py",
   "mimetype": "text/x-python",
   "name": "python",
   "nbconvert_exporter": "python",
   "pygments_lexer": "ipython3",
   "version": "3.11.9"
  }
 },
 "nbformat": 4,
 "nbformat_minor": 2
}
